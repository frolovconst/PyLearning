{
 "cells": [
  {
   "cell_type": "code",
   "execution_count": 1,
   "metadata": {},
   "outputs": [
    {
     "name": "stderr",
     "output_type": "stream",
     "text": [
      "/opt/anaconda3/lib/python3.6/site-packages/h5py/__init__.py:36: FutureWarning: Conversion of the second argument of issubdtype from `float` to `np.floating` is deprecated. In future, it will be treated as `np.float64 == np.dtype(float).type`.\n",
      "  from ._conv import register_converters as _register_converters\n"
     ]
    }
   ],
   "source": [
    "from __future__ import print_function\n",
    "import matplotlib\n",
    "import matplotlib.pyplot as plt\n",
    "import tensorflow as tf\n",
    "import time"
   ]
  },
  {
   "cell_type": "code",
   "execution_count": 11,
   "metadata": {},
   "outputs": [],
   "source": [
    "def get_times(maximum_time):\n",
    "\n",
    "    device_times = {\n",
    "        \"/gpu:0\":[],\n",
    "        \"/cpu:0\":[]\n",
    "    }\n",
    "    matrix_sizes = range(500,2000,50)\n",
    "\n",
    "    for size in matrix_sizes:\n",
    "        for device_name in device_times.keys():\n",
    "\n",
    "            print(\"####### Calculating on the \" + device_name + \" #######\")\n",
    "\n",
    "            shape = (size,size)\n",
    "            data_type = tf.float16\n",
    "            with tf.device(device_name):\n",
    "                r1 = tf.random_uniform(shape=shape, minval=0, maxval=1, dtype=data_type)\n",
    "                r2 = tf.random_uniform(shape=shape, minval=0, maxval=1, dtype=data_type)\n",
    "                dot_operation = tf.matmul(r2, r1)\n",
    "\n",
    "\n",
    "            with tf.Session(config=tf.ConfigProto(log_device_placement=True)) as session:\n",
    "                    start_time = time.time()\n",
    "                    result = session.run(dot_operation)\n",
    "                    time_taken = time.time() - start_time\n",
    "                    print(result)\n",
    "                    device_times[device_name].append(time_taken)\n",
    "\n",
    "            print(device_times)\n",
    "\n",
    "            if time_taken > maximum_time:\n",
    "                return device_times, matrix_sizes"
   ]
  },
  {
   "cell_type": "code",
   "execution_count": 12,
   "metadata": {},
   "outputs": [
    {
     "name": "stdout",
     "output_type": "stream",
     "text": [
      "####### Calculating on the /gpu:0 #######\n",
      "[[127.94 132.4  126.   ... 126.1  128.5  126.5 ]\n",
      " [125.56 124.9  126.9  ... 125.44 128.5  127.25]\n",
      " [128.2  125.5  129.5  ... 123.4  129.4  123.8 ]\n",
      " ...\n",
      " [121.94 125.3  124.9  ... 118.8  126.44 125.8 ]\n",
      " [115.56 115.94 116.5  ... 115.8  118.56 113.44]\n",
      " [127.56 133.4  128.8  ... 129.6  131.8  128.2 ]]\n",
      "{'/gpu:0': [0.6492760181427002], '/cpu:0': []}\n",
      "####### Calculating on the /cpu:0 #######\n",
      "[[124.56 123.   126.75 ... 119.4  120.1  125.8 ]\n",
      " [123.   126.6  123.5  ... 115.3  118.8  124.6 ]\n",
      " [121.44 119.9  118.44 ... 113.9  117.6  122.9 ]\n",
      " ...\n",
      " [125.3  125.25 126.25 ... 121.   123.   128.2 ]\n",
      " [123.6  121.1  123.6  ... 115.75 116.75 124.5 ]\n",
      " [124.25 121.75 121.1  ... 114.5  117.94 122.06]]\n",
      "{'/gpu:0': [0.6492760181427002], '/cpu:0': [1.0375828742980957]}\n",
      "####### Calculating on the /gpu:0 #######\n",
      "[[144.4  137.9  142.5  ... 136.2  143.2  134.4 ]\n",
      " [137.1  130.   131.9  ... 123.1  137.9  126.56]\n",
      " [142.4  138.4  140.5  ... 137.1  146.1  137.5 ]\n",
      " ...\n",
      " [140.8  132.6  138.6  ... 134.   139.9  133.9 ]\n",
      " [142.1  136.5  140.   ... 138.2  145.8  134.5 ]\n",
      " [146.6  134.1  142.8  ... 134.6  143.8  134.1 ]]\n",
      "{'/gpu:0': [0.6492760181427002, 0.6689472198486328], '/cpu:0': [1.0375828742980957]}\n",
      "####### Calculating on the /cpu:0 #######\n",
      "[[145.8 150.2 138.4 ... 144.6 139.  141.6]\n",
      " [140.2 145.  135.  ... 139.6 133.5 137.4]\n",
      " [141.  145.8 129.6 ... 138.2 136.5 132.4]\n",
      " ...\n",
      " [146.5 148.8 140.2 ... 146.5 141.1 140.1]\n",
      " [140.5 147.8 131.8 ... 140.6 137.8 136.5]\n",
      " [140.2 143.4 129.4 ... 139.8 131.8 129.2]]\n",
      "{'/gpu:0': [0.6492760181427002, 0.6689472198486328], '/cpu:0': [1.0375828742980957, 1.1947479248046875]}\n",
      "####### Calculating on the /gpu:0 #######\n",
      "[[150.2 150.5 148.9 ... 138.4 155.4 151.2]\n",
      " [148.2 149.1 151.5 ... 141.2 155.1 147.9]\n",
      " [151.1 150.1 153.8 ... 138.6 157.9 150. ]\n",
      " ...\n",
      " [150.4 150.  150.9 ... 140.9 153.6 148.2]\n",
      " [152.5 149.9 144.  ... 141.2 150.2 150.9]\n",
      " [143.5 151.4 147.2 ... 138.  151.5 151.2]]\n",
      "{'/gpu:0': [0.6492760181427002, 0.6689472198486328, 0.595393180847168], '/cpu:0': [1.0375828742980957, 1.1947479248046875]}\n",
      "####### Calculating on the /cpu:0 #######\n",
      "[[150.8 154.9 150.1 ... 154.8 148.  149.8]\n",
      " [142.2 154.1 145.4 ... 151.2 144.2 144. ]\n",
      " [147.8 155.2 149.  ... 155.9 145.4 149.2]\n",
      " ...\n",
      " [148.  154.8 149.  ... 151.8 142.  139.9]\n",
      " [145.9 153.  151.  ... 153.8 141.2 144. ]\n",
      " [147.8 154.4 145.5 ... 153.9 143.5 144.5]]\n",
      "{'/gpu:0': [0.6492760181427002, 0.6689472198486328, 0.595393180847168], '/cpu:0': [1.0375828742980957, 1.1947479248046875, 1.433755874633789]}\n",
      "####### Calculating on the /gpu:0 #######\n",
      "[[167.  150.9 176.  ... 169.1 161.6 167.9]\n",
      " [173.5 166.6 177.  ... 175.4 170.6 175.4]\n",
      " [170.8 156.5 172.4 ... 166.5 162.8 165.4]\n",
      " ...\n",
      " [166.9 149.2 163.1 ... 167.1 158.9 163.9]\n",
      " [159.9 153.  165.1 ... 164.8 158.4 159. ]\n",
      " [172.6 162.2 174.6 ... 172.9 172.9 173.2]]\n",
      "{'/gpu:0': [0.6492760181427002, 0.6689472198486328, 0.595393180847168, 0.6145150661468506], '/cpu:0': [1.0375828742980957, 1.1947479248046875, 1.433755874633789]}\n",
      "####### Calculating on the /cpu:0 #######\n",
      "[[165.6 171.4 167.8 ... 170.4 156.4 161.2]\n",
      " [161.1 167.5 158.9 ... 162.9 153.8 155.6]\n",
      " [159.1 163.5 159.4 ... 163.4 154.2 152.9]\n",
      " ...\n",
      " [164.6 175.  170.  ... 174.8 157.8 162.9]\n",
      " [156.  164.4 163.  ... 162.6 149.5 158.2]\n",
      " [168.  174.5 168.4 ... 175.6 158.  165.2]]\n",
      "{'/gpu:0': [0.6492760181427002, 0.6689472198486328, 0.595393180847168, 0.6145150661468506], '/cpu:0': [1.0375828742980957, 1.1947479248046875, 1.433755874633789, 1.6682240962982178]}\n"
     ]
    },
    {
     "data": {
      "image/png": "[encoded data removed]",
      "text/plain": [
       "<matplotlib.figure.Figure at 0x18562f95c0>"
      ]
     },
     "metadata": {},
     "output_type": "display_data"
    }
   ],
   "source": [
    "device_times, matrix_sizes = get_times(1.5)\n",
    "gpu_times = device_times[\"/gpu:0\"]\n",
    "cpu_times = device_times[\"/cpu:0\"]\n",
    "\n",
    "plt.plot(matrix_sizes[:len(gpu_times)], gpu_times, 'o-', label='gpu')\n",
    "plt.plot(matrix_sizes[:len(cpu_times)], cpu_times, 'o-', label='cpu')\n",
    "plt.ylabel('Time')\n",
    "plt.xlabel('Matrix size')\n",
    "plt.legend()\n",
    "plt.show()"
   ]
  }
 ],
 "metadata": {
  "kernelspec": {
   "display_name": "Python 3",
   "language": "python",
   "name": "python3"
  },
  "language_info": {
   "codemirror_mode": {
    "name": "ipython",
    "version": 3
   },
   "file_extension": ".py",
   "mimetype": "text/x-python",
   "name": "python",
   "nbconvert_exporter": "python",
   "pygments_lexer": "ipython3",
   "version": "3.6.1"
  }
 },
 "nbformat": 4,
 "nbformat_minor": 2
}
