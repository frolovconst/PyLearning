{
 "cells": [
  {
   "cell_type": "code",
   "execution_count": 1,
   "metadata": {
    "collapsed": true
   },
   "outputs": [],
   "source": [
    "import numpy as np"
   ]
  },
  {
   "cell_type": "code",
   "execution_count": 3,
   "metadata": {
    "collapsed": true
   },
   "outputs": [],
   "source": [
    "data = np.loadtxt('ex2data2.txt', delimiter=',')\n",
    "X = data[:,:2]\n",
    "y = data[:,2:]"
   ]
  },
  {
   "cell_type": "code",
   "execution_count": 233,
   "metadata": {
    "collapsed": false
   },
   "outputs": [
    {
     "data": {
      "image/png": "[encoded data removed]",
      "text/plain": [
       "<matplotlib.figure.Figure at 0x1151d6550>"
      ]
     },
     "metadata": {},
     "output_type": "display_data"
    }
   ],
   "source": [
    "import ex2_reg_functions\n",
    "import importlib\n",
    "importlib.reload(ex2_reg_functions)\n",
    "ex2_reg_functions.plotData(X, y)"
   ]
  },
  {
   "cell_type": "code",
   "execution_count": 250,
   "metadata": {
    "collapsed": true
   },
   "outputs": [],
   "source": [
    "X_whole = mapFeature(X[:,0],X[:,1])\n",
    "lambda_reg = 1\n",
    "initial_theta = np.zeros(X_whole.shape[1]).reshape(X_whole.shape[1])\n",
    "cost = ex2_reg_functions.costFunctionReg(X_whole, y, initial_theta, lambda_reg)\n",
    "grad = ex2_reg_functions.gradFunction(X_whole, y, initial_theta, lambda_reg)"
   ]
  },
  {
   "cell_type": "code",
   "execution_count": 251,
   "metadata": {
    "collapsed": false
   },
   "outputs": [
    {
     "name": "stdout",
     "output_type": "stream",
     "text": [
      "Cost at initial theta (zeros): 0.6931\n",
      "\n",
      "Expected cost (approx): 0.693\n",
      "\n",
      "Gradient at initial theta (zeros) - first five values only:\n",
      "\n",
      "[[  8.47457627e-03]\n",
      " [  1.87880932e-02]\n",
      " [  7.77711864e-05]\n",
      " [  5.03446395e-02]\n",
      " [  1.15013308e-02]]\n",
      "Expected gradients (approx) - first five values only:\n",
      "\n",
      " 0.0085\n",
      " 0.0188\n",
      " 0.0001\n",
      " 0.0503\n",
      " 0.0115\n",
      "\n"
     ]
    }
   ],
   "source": [
    "print('Cost at initial theta (zeros): %.4f\\n' %cost);\n",
    "print('Expected cost (approx): 0.693\\n');\n",
    "print('Gradient at initial theta (zeros) - first five values only:\\n');\n",
    "print( grad[0:5]);\n",
    "print('Expected gradients (approx) - first five values only:\\n');\n",
    "print(' 0.0085\\n 0.0188\\n 0.0001\\n 0.0503\\n 0.0115\\n');"
   ]
  },
  {
   "cell_type": "code",
   "execution_count": 252,
   "metadata": {
    "collapsed": false
   },
   "outputs": [
    {
     "name": "stdout",
     "output_type": "stream",
     "text": [
      "\n",
      "Cost at test theta (with lambda = 10): 3.165\n",
      "\n",
      "Expected cost (approx): 3.16\n",
      "\n",
      "Gradient at test theta - first five values only:\n",
      "\n",
      "[[ 0.34604507]\n",
      " [ 0.16135192]\n",
      " [ 0.19479576]\n",
      " [ 0.22686278]\n",
      " [ 0.09218568]]\n",
      "Expected gradients (approx) - first five values only:\n",
      "\n",
      " 0.3460\n",
      " 0.1614\n",
      " 0.1948\n",
      " 0.2269\n",
      " 0.0922\n",
      "\n"
     ]
    }
   ],
   "source": [
    "test_theta = np.ones(X_whole.shape[1]).reshape(X_whole.shape[1])\n",
    "test_lambda = 10\n",
    "test_cost = ex2_reg_functions.costFunctionReg(X_whole, y, test_theta, test_lambda)\n",
    "test_grad = ex2_reg_functions.gradFunction(X_whole, y, test_theta, test_lambda)\n",
    "\n",
    "print('\\nCost at test theta (with lambda = 10): %.3f\\n' %test_cost);\n",
    "print('Expected cost (approx): 3.16\\n');\n",
    "print('Gradient at test theta - first five values only:\\n');\n",
    "print(test_grad[0:5]);\n",
    "print('Expected gradients (approx) - first five values only:\\n');\n",
    "print(' 0.3460\\n 0.1614\\n 0.1948\\n 0.2269\\n 0.0922\\n');"
   ]
  },
  {
   "cell_type": "code",
   "execution_count": 169,
   "metadata": {
    "collapsed": true
   },
   "outputs": [],
   "source": [
    "from scipy import optimize"
   ]
  },
  {
   "cell_type": "code",
   "execution_count": 253,
   "metadata": {
    "collapsed": true
   },
   "outputs": [],
   "source": [
    "def redCostFunction(theta):\n",
    "    return ex2_reg_functions.costFunctionReg(X_whole, y, theta, lambda_reg)\n",
    "    #m = y.size\n",
    "    #J = -(y*np.log(ex2_functions.sigmoidFunction(X, theta)) + (1-y)*np.log(1e-15+1-ex2_functions.sigmoidFunction(X, theta))).sum()/m\n",
    "    #return J\n",
    "\n",
    "def redGradFunction(theta):\n",
    "    #m = y.size\n",
    "    #grad = np.zeros(theta.size)\n",
    "    #grad0 = (X[:,0].flatten()*(ex2_functions.sigmoidFunction(X, theta).flatten() - y.flatten())).sum()/m\n",
    "    #grad1 = (X[:,1].flatten()*(ex2_functions.sigmoidFunction(X, theta).flatten() - y.flatten())).sum()/m\n",
    "    #grad2 = (X[:,2].flatten()*(ex2_functions.sigmoidFunction(X, theta).flatten() - y.flatten())).sum()/m\n",
    "    #return  np.asarray((grad0, grad1, grad2))\n",
    "    return ex2_reg_functions.gradFunction(X_whole, y, theta, lambda_reg).flatten()"
   ]
  },
  {
   "cell_type": "code",
   "execution_count": 254,
   "metadata": {
    "collapsed": false
   },
   "outputs": [
    {
     "name": "stdout",
     "output_type": "stream",
     "text": [
      "Warning: Desired error not necessarily achieved due to precision loss.\n",
      "         Current function value: 0.529003\n",
      "         Iterations: 34\n",
      "         Function evaluations: 127\n",
      "         Gradient evaluations: 115\n"
     ]
    }
   ],
   "source": [
    "result = optimize.fmin_cg(redCostFunction, initial_theta, fprime=redGradFunction, maxiter=400, full_output=True, gtol=1e-15)"
   ]
  },
  {
   "cell_type": "code",
   "execution_count": 257,
   "metadata": {
    "collapsed": false
   },
   "outputs": [
    {
     "data": {
      "image/png": "[encoded data removed]",
      "text/plain": [
       "<matplotlib.figure.Figure at 0x1134f8e10>"
      ]
     },
     "metadata": {},
     "output_type": "display_data"
    }
   ],
   "source": [
    "ex2_reg_functions.plotDecisionBoundary(X, y, result[0])"
   ]
  },
  {
   "cell_type": "code",
   "execution_count": 258,
   "metadata": {
    "collapsed": false
   },
   "outputs": [
    {
     "name": "stdout",
     "output_type": "stream",
     "text": [
      "Train Accuracy: 83.05\n",
      "\n",
      "Expected Accuracy: 83.1%\n"
     ]
    }
   ],
   "source": [
    "predict = ex2_reg_functions.predict(X_whole, result[0])\n",
    "print('Train Accuracy: %.2f\\n' %(np.mean(y[:,0] == predict[:,0])*100))\n",
    "print('Expected Accuracy: 83.1%')"
   ]
  }
 ],
 "metadata": {
  "kernelspec": {
   "display_name": "Python 3",
   "language": "python",
   "name": "python3"
  },
  "language_info": {
   "codemirror_mode": {
    "name": "ipython",
    "version": 3
   },
   "file_extension": ".py",
   "mimetype": "text/x-python",
   "name": "python",
   "nbconvert_exporter": "python",
   "pygments_lexer": "ipython3",
   "version": "3.6.0"
  }
 },
 "nbformat": 4,
 "nbformat_minor": 2
}
