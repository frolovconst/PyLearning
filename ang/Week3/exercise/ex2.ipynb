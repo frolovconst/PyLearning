{
 "cells": [
  {
   "cell_type": "code",
   "execution_count": 128,
   "metadata": {
    "collapsed": true
   },
   "outputs": [],
   "source": [
    "import numpy as np"
   ]
  },
  {
   "cell_type": "code",
   "execution_count": 129,
   "metadata": {
    "collapsed": true
   },
   "outputs": [],
   "source": [
    "data = np.loadtxt('ex2data1.txt', delimiter=',')\n",
    "X = data[:,:2]\n",
    "y = data[:,2].reshape(y.shape[0],1)"
   ]
  },
  {
   "cell_type": "code",
   "execution_count": 130,
   "metadata": {},
   "outputs": [
    {
     "data": {
      "text/plain": [
       "<module 'plotData' from '/Users/carioca/Dvlpt/prj/python/PyLearning/ang/Week3/exercise/plotData.py'>"
      ]
     },
     "execution_count": 130,
     "metadata": {},
     "output_type": "execute_result"
    }
   ],
   "source": [
    "import plotData\n",
    "import importlib\n",
    "importlib.reload(plotData)"
   ]
  },
  {
   "cell_type": "code",
   "execution_count": 513,
   "metadata": {},
   "outputs": [
    {
     "name": "stdout",
     "output_type": "stream",
     "text": [
      "Plotting data with + indicating (y = 1) examples and o indicating (y = 0) examples.\n"
     ]
    },
    {
     "data": {
      "image/png": "[encoded data removed]",
      "text/plain": [
       "<matplotlib.figure.Figure at 0x1199435c0>"
      ]
     },
     "metadata": {},
     "output_type": "display_data"
    }
   ],
   "source": [
    "print('Plotting data with + indicating (y = 1) examples and o indicating (y = 0) examples.')\n",
    "plotData.plotData(X, y)"
   ]
  },
  {
   "cell_type": "code",
   "execution_count": 132,
   "metadata": {
    "collapsed": true,
    "scrolled": true
   },
   "outputs": [],
   "source": [
    "m,n = X.shape\n",
    "X = np.append(np.ones(m).reshape(m,1), X, axis=1)\n",
    "initial_theta = np.zeros(n+1).reshape(n+1,1)"
   ]
  },
  {
   "cell_type": "code",
   "execution_count": 184,
   "metadata": {
    "collapsed": true
   },
   "outputs": [],
   "source": [
    "import costFunction\n",
    "import gradientFunction"
   ]
  },
  {
   "cell_type": "code",
   "execution_count": 189,
   "metadata": {},
   "outputs": [
    {
     "data": {
      "text/plain": [
       "<module 'gradientFunction' from '/Users/carioca/Dvlpt/prj/python/PyLearning/ang/Week3/exercise/gradientFunction.py'>"
      ]
     },
     "execution_count": 189,
     "metadata": {},
     "output_type": "execute_result"
    }
   ],
   "source": [
    "importlib.reload(costFunction)\n",
    "importlib.reload(gradientFunction)"
   ]
  },
  {
   "cell_type": "code",
   "execution_count": 191,
   "metadata": {},
   "outputs": [
    {
     "name": "stdout",
     "output_type": "stream",
     "text": [
      "Cost at initial theta (zeros): 0.693147\n",
      "Expected cost (approx): 0.693\n",
      "\n",
      "Gradient at initial theta (zeros):\n",
      "[[ -0.1       ]\n",
      " [-12.00921659]\n",
      " [-11.26284221]]\n",
      "\n",
      "Expected gradients (approx):\n",
      " -0.1000\n",
      " -12.0092\n",
      " -11.2628\n",
      "\n"
     ]
    }
   ],
   "source": [
    "cost = costFunction.costFunction(X, y, initial_theta)\n",
    "grad = gradientFunction.gradFunction(X, y, initial_theta)\n",
    "print('Cost at initial theta (zeros): %f' %cost);\n",
    "print('Expected cost (approx): 0.693\\n');\n",
    "print('Gradient at initial theta (zeros):');\n",
    "print(grad);\n",
    "print('\\nExpected gradients (approx):\\n -0.1000\\n -12.0092\\n -11.2628\\n');"
   ]
  },
  {
   "cell_type": "code",
   "execution_count": 192,
   "metadata": {},
   "outputs": [
    {
     "name": "stdout",
     "output_type": "stream",
     "text": [
      "Cost at test theta (zeros): 0.218330\n",
      "Expected cost (approx): 0.218\n",
      "\n",
      "Gradient at initial theta (zeros):\n",
      "[[ 0.04290299]\n",
      " [ 2.56623412]\n",
      " [ 2.64679737]]\n",
      "\n",
      "Expected gradients (approx):\n",
      " 0.043\n",
      " 2.566\n",
      " 2.647\n",
      "\n"
     ]
    }
   ],
   "source": [
    "test_theta = np.array([-24, .2, .2]).reshape(X.shape[1],1)\n",
    "cost = costFunction.costFunction(X, y, test_theta)\n",
    "grad = gradientFunction.gradFunction(X, y, test_theta)\n",
    "print('Cost at test theta (zeros): %f' %cost);\n",
    "print('Expected cost (approx): 0.218\\n');\n",
    "print('Gradient at initial theta (zeros):');\n",
    "print(grad);\n",
    "print('\\nExpected gradients (approx):\\n 0.043\\n 2.566\\n 2.647\\n');"
   ]
  },
  {
   "cell_type": "code",
   "execution_count": 182,
   "metadata": {
    "collapsed": true
   },
   "outputs": [],
   "source": [
    "from scipy import optimize"
   ]
  },
  {
   "cell_type": "code",
   "execution_count": 511,
   "metadata": {
    "collapsed": true
   },
   "outputs": [],
   "source": [
    "import ex2_functions\n",
    "importlib.reload(ex2_functions)\n",
    "def redCostFunction(theta):\n",
    "    return ex2_functions.costFunction(X, y, theta)\n",
    "    #m = y.size\n",
    "    #J = -(y*np.log(ex2_functions.sigmoidFunction(X, theta)) + (1-y)*np.log(1e-15+1-ex2_functions.sigmoidFunction(X, theta))).sum()/m\n",
    "    #return J\n",
    "\n",
    "def redGradFunction(theta):\n",
    "    #m = y.size\n",
    "    #grad = np.zeros(theta.size)\n",
    "    #grad0 = (X[:,0].flatten()*(ex2_functions.sigmoidFunction(X, theta).flatten() - y.flatten())).sum()/m\n",
    "    #grad1 = (X[:,1].flatten()*(ex2_functions.sigmoidFunction(X, theta).flatten() - y.flatten())).sum()/m\n",
    "    #grad2 = (X[:,2].flatten()*(ex2_functions.sigmoidFunction(X, theta).flatten() - y.flatten())).sum()/m\n",
    "    #return  np.asarray((grad0, grad1, grad2))\n",
    "    return ex2_functions.gradFunction(X, y, theta).flatten()"
   ]
  },
  {
   "cell_type": "code",
   "execution_count": 407,
   "metadata": {},
   "outputs": [
    {
     "name": "stdout",
     "output_type": "stream",
     "text": [
      "Warning: Desired error not necessarily achieved due to precision loss.\n",
      "         Current function value: 0.203498\n",
      "         Iterations: 105\n",
      "         Function evaluations: 306\n",
      "         Gradient evaluations: 294\n"
     ]
    }
   ],
   "source": [
    "result = 0\n",
    "result = optimize.fmin_cg(redCostFunction, initial_theta, fprime=redGradFunction, maxiter=400, full_output=True, gtol=1e-20)"
   ]
  },
  {
   "cell_type": "code",
   "execution_count": 420,
   "metadata": {},
   "outputs": [
    {
     "name": "stdout",
     "output_type": "stream",
     "text": [
      "Cost at theta found by fminunc: 0.2035\n",
      "\n",
      "Expected cost (approx): 0.203\n",
      "theta: \n",
      "[-25.16130213   0.20623146   0.20147135]\n",
      "Expected theta (approx):\n",
      " -25.161\n",
      " 0.206\n",
      " 0.201\n",
      "\n"
     ]
    }
   ],
   "source": [
    "print('Cost at theta found by fminunc: %.4f\\n' %result[1]);\n",
    "print('Expected cost (approx): 0.203');\n",
    "print('theta: ');\n",
    "print(result[0]);\n",
    "print('Expected theta (approx):');\n",
    "print(' -25.161\\n 0.206\\n 0.201\\n');\n"
   ]
  },
  {
   "cell_type": "code",
   "execution_count": 430,
   "metadata": {},
   "outputs": [
    {
     "data": {
      "text/plain": [
       "<module 'plotDecisionBoundary' from '/Users/carioca/Dvlpt/prj/python/PyLearning/ang/Week3/exercise/plotDecisionBoundary.py'>"
      ]
     },
     "execution_count": 430,
     "metadata": {},
     "output_type": "execute_result"
    }
   ],
   "source": [
    "import plotDecisionBoundary\n",
    "importlib.reload(plotDecisionBoundary)"
   ]
  },
  {
   "cell_type": "code",
   "execution_count": 514,
   "metadata": {},
   "outputs": [
    {
     "data": {
      "image/png": "[encoded data removed]",
      "text/plain": [
       "<matplotlib.figure.Figure at 0x11982ff28>"
      ]
     },
     "metadata": {},
     "output_type": "display_data"
    }
   ],
   "source": [
    "plotDecisionBoundary.plotData(X, y, result[0])"
   ]
  },
  {
   "cell_type": "code",
   "execution_count": 509,
   "metadata": {},
   "outputs": [
    {
     "name": "stdout",
     "output_type": "stream",
     "text": [
      "For a student with scores 45 and 85, we predict an admission probability of 0.776290\n",
      "Expected value: 0.775 +/- 0.002\n"
     ]
    }
   ],
   "source": [
    "prob = ex2_functions.sigmoidFunction(np.array([1,45,85]), result[0]).sum()\n",
    "print('For a student with scores 45 and 85, we predict an admission probability of %f' %prob);\n",
    "print('Expected value: 0.775 +/- 0.002');"
   ]
  },
  {
   "cell_type": "code",
   "execution_count": 455,
   "metadata": {
    "collapsed": true
   },
   "outputs": [],
   "source": []
  },
  {
   "cell_type": "code",
   "execution_count": 512,
   "metadata": {},
   "outputs": [
    {
     "name": "stdout",
     "output_type": "stream",
     "text": [
      "Train Accuracy: 89.00\n",
      "\n",
      "Expected accuracy (approx): 89.0\n"
     ]
    }
   ],
   "source": [
    "p = ex2_functions.predict(X, result[0])\n",
    "print('Train Accuracy: %.2f\\n' %(np.mean(y[:,0]==p[:,0]) * 100))\n",
    "print('Expected accuracy (approx): 89.0');\n",
    "score = np.zeros(X.shape[0])\n",
    "score[np.where(y[:,0]==p[:,0])] = 1"
   ]
  }
 ],
 "metadata": {
  "kernelspec": {
   "display_name": "Python 3",
   "language": "python",
   "name": "python3"
  },
  "language_info": {
   "codemirror_mode": {
    "name": "ipython",
    "version": 3
   },
   "file_extension": ".py",
   "mimetype": "text/x-python",
   "name": "python",
   "nbconvert_exporter": "python",
   "pygments_lexer": "ipython3",
   "version": "3.6.1"
  }
 },
 "nbformat": 4,
 "nbformat_minor": 2
}
