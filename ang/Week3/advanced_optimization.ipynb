{
 "cells": [
  {
   "cell_type": "code",
   "execution_count": 1,
   "metadata": {
    "collapsed": true
   },
   "outputs": [],
   "source": [
    "import numpy as np"
   ]
  },
  {
   "cell_type": "code",
   "execution_count": 2,
   "metadata": {
    "collapsed": true
   },
   "outputs": [],
   "source": [
    "def costFunction(theta):\n",
    "    jVal = (theta[0]-5)**2 + (theta[1]-5)**2  \n",
    "    return jVal\n",
    "\n",
    "def gradientFunction(theta):\n",
    "    #gradient = np.zeros(2).reshape(2,1)\n",
    "    gradient0 = 2*(theta[0]-5)\n",
    "    gradient1 = 2*(theta[0]-5)\n",
    "    return np.asarray((gradient0, gradient1))"
   ]
  },
  {
   "cell_type": "code",
   "execution_count": 23,
   "metadata": {
    "collapsed": true
   },
   "outputs": [],
   "source": [
    "initialTheta = np.zeros(2).reshape(2,)"
   ]
  },
  {
   "cell_type": "code",
   "execution_count": 4,
   "metadata": {
    "collapsed": true
   },
   "outputs": [],
   "source": [
    "from scipy import optimize"
   ]
  },
  {
   "cell_type": "code",
   "execution_count": 5,
   "metadata": {},
   "outputs": [
    {
     "name": "stdout",
     "output_type": "stream",
     "text": [
      "Optimization terminated successfully.\n",
      "         Current function value: 0.000000\n",
      "         Iterations: 4\n",
      "         Function evaluations: 9\n",
      "         Gradient evaluations: 9\n",
      "[ 5.  5.] 4.0845340183389565e-24\n"
     ]
    }
   ],
   "source": [
    "result = optimize.fmin_cg(costFunction, initialTheta, fprime=gradientFunction, maxiter=100, full_output=True, gtol=1e-10 )\n",
    "print(result[0], result[1])"
   ]
  },
  {
   "cell_type": "code",
   "execution_count": 22,
   "metadata": {},
   "outputs": [
    {
     "name": "stdout",
     "output_type": "stream",
     "text": [
      "Optimization terminated successfully.\n",
      "         Current function value: 0.000000\n",
      "         Iterations: 2\n",
      "         Function evaluations: 3\n",
      "         Gradient evaluations: 6\n",
      "         Hessian evaluations: 0\n",
      "[ 5.  5.] 0.0\n"
     ]
    }
   ],
   "source": [
    "result_ncg = optimize.fmin_ncg(costFunction, initialTheta, fprime=gradientFunction, maxiter=100, full_output=True, avextol=1e-10 )\n",
    "print(result_ncg[0], result_ncg[1])"
   ]
  },
  {
   "cell_type": "code",
   "execution_count": null,
   "metadata": {
    "collapsed": true
   },
   "outputs": [],
   "source": []
  }
 ],
 "metadata": {
  "kernelspec": {
   "display_name": "Python 3",
   "language": "python",
   "name": "python3"
  },
  "language_info": {
   "codemirror_mode": {
    "name": "ipython",
    "version": 3
   },
   "file_extension": ".py",
   "mimetype": "text/x-python",
   "name": "python",
   "nbconvert_exporter": "python",
   "pygments_lexer": "ipython3",
   "version": "3.6.1"
  }
 },
 "nbformat": 4,
 "nbformat_minor": 2
}
