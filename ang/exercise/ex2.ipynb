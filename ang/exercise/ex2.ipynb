{
 "cells": [
  {
   "cell_type": "code",
   "execution_count": 30,
   "metadata": {},
   "outputs": [],
   "source": [
    "import numpy as np\n",
    "data = np.loadtxt('ex1data2.txt', delimiter=',')\n",
    "X = data[:,:2]\n",
    "y = data[:,2]\n",
    "m = y.size\n",
    "y = y.reshape(m,1); X = X.reshape(m,2)\n",
    "X = np.append(np.ones(m).reshape(m,1), X, axis=1)\n"
   ]
  },
  {
   "cell_type": "code",
   "execution_count": 14,
   "metadata": {
    "collapsed": true
   },
   "outputs": [],
   "source": [
    "import costFunctionJ\n",
    "import gradientDescent"
   ]
  },
  {
   "cell_type": "code",
   "execution_count": 37,
   "metadata": {
    "collapsed": true
   },
   "outputs": [],
   "source": [
    "iterations = 1500\n",
    "alpha = .01\n",
    "theta = np.zeros(3).reshape(3,1)"
   ]
  },
  {
   "cell_type": "code",
   "execution_count": null,
   "metadata": {
    "collapsed": true
   },
   "outputs": [],
   "source": [
    "def featureNormalize(X):\n",
    "    X_norm = X\n",
    "    mu = np.mean(X, axis=0)\n",
    "    sigma = np.std(X, axis=0)\n",
    "    X_norm = \n",
    "    return X_norm, mu, sigma"
   ]
  },
  {
   "cell_type": "code",
   "execution_count": 49,
   "metadata": {},
   "outputs": [
    {
     "data": {
      "text/plain": [
       "array([   0.        ,  508.1789055 ,    0.53851648])"
      ]
     },
     "execution_count": 49,
     "metadata": {},
     "output_type": "execute_result"
    }
   ],
   "source": [
    "np.std(X[:10], axis=0)"
   ]
  },
  {
   "cell_type": "code",
   "execution_count": 54,
   "metadata": {},
   "outputs": [
    {
     "data": {
      "text/plain": [
       "array([[  2.10039103e+03,  -2.75655548e+00],\n",
       "       [  1.59639103e+03,  -2.75655548e+00],\n",
       "       [  2.39639103e+03,  -2.75655548e+00],\n",
       "       [  1.41239103e+03,  -3.75655548e+00],\n",
       "       [  2.99639103e+03,  -1.75655548e+00],\n",
       "       [  1.98139103e+03,  -1.75655548e+00],\n",
       "       [  1.53039103e+03,  -2.75655548e+00],\n",
       "       [  1.42339103e+03,  -2.75655548e+00],\n",
       "       [  1.37639103e+03,  -2.75655548e+00],\n",
       "       [  1.49039103e+03,  -2.75655548e+00]])"
      ]
     },
     "execution_count": 54,
     "metadata": {},
     "output_type": "execute_result"
    }
   ],
   "source": [
    "X[:10, 1:3] - np.mean(X[:10, 1:3], axis=0) / np.std(X[:10, 1:3], axis=0)"
   ]
  },
  {
   "cell_type": "code",
   "execution_count": 56,
   "metadata": {},
   "outputs": [
    {
     "data": {
      "text/plain": [
       "array([[  2.10400000e+03,   3.00000000e+00],\n",
       "       [  1.60000000e+03,   3.00000000e+00],\n",
       "       [  2.40000000e+03,   3.00000000e+00],\n",
       "       [  1.41600000e+03,   2.00000000e+00],\n",
       "       [  3.00000000e+03,   4.00000000e+00],\n",
       "       [  1.98500000e+03,   4.00000000e+00],\n",
       "       [  1.53400000e+03,   3.00000000e+00],\n",
       "       [  1.42700000e+03,   3.00000000e+00],\n",
       "       [  1.38000000e+03,   3.00000000e+00],\n",
       "       [  1.49400000e+03,   3.00000000e+00]])"
      ]
     },
     "execution_count": 56,
     "metadata": {},
     "output_type": "execute_result"
    }
   ],
   "source": [
    "X[:10, 1:3]"
   ]
  },
  {
   "cell_type": "code",
   "execution_count": 38,
   "metadata": {},
   "outputs": [
    {
     "data": {
      "text/plain": [
       "array([  6.55915481e+10])"
      ]
     },
     "execution_count": 38,
     "metadata": {},
     "output_type": "execute_result"
    }
   ],
   "source": [
    "costFunctionJ.costFunctionJ(X, y, theta)"
   ]
  },
  {
   "cell_type": "code",
   "execution_count": 31,
   "metadata": {},
   "outputs": [
    {
     "name": "stderr",
     "output_type": "stream",
     "text": [
      "C:\\Users\\KFrolov\\Documents\\Inno_Internship\\Inno_Internship\\Python_prj\\PyLearning\\ang\\exercise\\costFunctionJ.py:5: RuntimeWarning: overflow encountered in add\n",
      "  return sum(sqrErrors**2)/2/m\n",
      "C:\\Users\\KFrolov\\Documents\\Inno_Internship\\Inno_Internship\\Python_prj\\PyLearning\\ang\\exercise\\costFunctionJ.py:5: RuntimeWarning: overflow encountered in square\n",
      "  return sum(sqrErrors**2)/2/m\n",
      "C:\\Users\\KFrolov\\Documents\\Inno_Internship\\Inno_Internship\\Python_prj\\PyLearning\\ang\\exercise\\gradientDescent.py:10: RuntimeWarning: overflow encountered in multiply\n",
      "  temp_theta[j] = theta[j] - alpha / m * ((X.dot(theta) - y) * X[:,j].reshape(m,1)).sum()\n"
     ]
    }
   ],
   "source": [
    "test_theta, hstry = gradientDescent.gradientDescent(X, y, theta, alpha, iterations)"
   ]
  },
  {
   "cell_type": "code",
   "execution_count": 40,
   "metadata": {},
   "outputs": [],
   "source": [
    "pre = X.dot(theta)"
   ]
  },
  {
   "cell_type": "code",
   "execution_count": 41,
   "metadata": {},
   "outputs": [
    {
     "data": {
      "text/plain": [
       "array([[ 0.],\n",
       "       [ 0.],\n",
       "       [ 0.],\n",
       "       [ 0.],\n",
       "       [ 0.],\n",
       "       [ 0.],\n",
       "       [ 0.],\n",
       "       [ 0.],\n",
       "       [ 0.],\n",
       "       [ 0.]])"
      ]
     },
     "execution_count": 41,
     "metadata": {},
     "output_type": "execute_result"
    }
   ],
   "source": [
    "pre[:10]"
   ]
  }
 ],
 "metadata": {
  "kernelspec": {
   "display_name": "Python 3",
   "language": "python",
   "name": "python3"
  },
  "language_info": {
   "codemirror_mode": {
    "name": "ipython",
    "version": 3
   },
   "file_extension": ".py",
   "mimetype": "text/x-python",
   "name": "python",
   "nbconvert_exporter": "python",
   "pygments_lexer": "ipython3",
   "version": "3.6.1"
  }
 },
 "nbformat": 4,
 "nbformat_minor": 2
}
