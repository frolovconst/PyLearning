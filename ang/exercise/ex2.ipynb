{
 "cells": [
  {
   "cell_type": "code",
   "execution_count": 1,
   "metadata": {
    "collapsed": true
   },
   "outputs": [],
   "source": [
    "import numpy as np\n",
    "data = np.loadtxt('ex1data2.txt', delimiter=',')\n",
    "X = data[:,:2]\n",
    "y = data[:,2]\n",
    "m = y.size\n",
    "y = y.reshape(m,1); X = X.reshape(m,2)"
   ]
  },
  {
   "cell_type": "code",
   "execution_count": 3,
   "metadata": {
    "collapsed": true
   },
   "outputs": [],
   "source": [
    "import computeCostMulti\n",
    "import gradientDescent"
   ]
  },
  {
   "cell_type": "code",
   "execution_count": 4,
   "metadata": {
    "collapsed": true
   },
   "outputs": [],
   "source": [
    "iterations = 1500\n",
    "alpha = .1"
   ]
  },
  {
   "cell_type": "code",
   "execution_count": 5,
   "metadata": {
    "collapsed": true
   },
   "outputs": [],
   "source": [
    "theta = np.zeros(3).reshape(3,1)"
   ]
  },
  {
   "cell_type": "code",
   "execution_count": 6,
   "metadata": {
    "collapsed": true
   },
   "outputs": [],
   "source": [
    "import featureNormalize"
   ]
  },
  {
   "cell_type": "code",
   "execution_count": 7,
   "metadata": {
    "collapsed": true
   },
   "outputs": [],
   "source": [
    "import importlib\n",
    "importlib.reload(featureNormalize)\n",
    "X_norm, u, sigma = featureNormalize.featureNormalize(X)\n",
    "X_norm = np.append(np.ones(m).reshape(m,1), X_norm, axis=1)\n",
    "X = np.append(np.ones(m).reshape(m,1), X, axis=1)"
   ]
  },
  {
   "cell_type": "code",
   "execution_count": 8,
   "metadata": {},
   "outputs": [
    {
     "data": {
      "text/plain": [
       "array([[  6.55915481e+10]])"
      ]
     },
     "execution_count": 8,
     "metadata": {},
     "output_type": "execute_result"
    }
   ],
   "source": [
    "computeCostMulti.costFunctionJ(X_norm, y, theta)"
   ]
  },
  {
   "cell_type": "code",
   "execution_count": 18,
   "metadata": {},
   "outputs": [
    {
     "data": {
      "text/plain": [
       "array([[  2.11875886e-08],\n",
       "       [  1.54242870e+05],\n",
       "       [ -1.30850606e+05]])"
      ]
     },
     "execution_count": 18,
     "metadata": {},
     "output_type": "execute_result"
    }
   ],
   "source": [
    "theta"
   ]
  },
  {
   "cell_type": "code",
   "execution_count": 10,
   "metadata": {
    "collapsed": true
   },
   "outputs": [],
   "source": [
    "theta, hstry = gradientDescent.gradientDescent(X_norm, y, theta, alpha, iterations)"
   ]
  },
  {
   "cell_type": "code",
   "execution_count": 13,
   "metadata": {},
   "outputs": [
    {
     "name": "stderr",
     "output_type": "stream",
     "text": [
      "/opt/anaconda3/lib/python3.6/site-packages/matplotlib/font_manager.py:280: UserWarning: Matplotlib is building the font cache using fc-list. This may take a moment.\n",
      "  'Matplotlib is building the font cache using fc-list. '\n"
     ]
    }
   ],
   "source": [
    "import matplotlib.pyplot as plt\n",
    "from mpl_toolkits.mplot3d import Axes3D\n",
    "import matplotlib.cm as cm"
   ]
  },
  {
   "cell_type": "code",
   "execution_count": 575,
   "metadata": {},
   "outputs": [
    {
     "ename": "NameError",
     "evalue": "name 'pre' is not defined",
     "output_type": "error",
     "traceback": [
      "\u001b[1;31m---------------------------------------------------------------------------\u001b[0m",
      "\u001b[1;31mNameError\u001b[0m                                 Traceback (most recent call last)",
      "\u001b[1;32m<ipython-input-575-b9acc8dbefe7>\u001b[0m in \u001b[0;36m<module>\u001b[1;34m()\u001b[0m\n\u001b[0;32m      1\u001b[0m \u001b[0mfig\u001b[0m \u001b[1;33m=\u001b[0m \u001b[0mplt\u001b[0m\u001b[1;33m.\u001b[0m\u001b[0mfigure\u001b[0m\u001b[1;33m(\u001b[0m\u001b[1;33m)\u001b[0m\u001b[1;33m\u001b[0m\u001b[0m\n\u001b[0;32m      2\u001b[0m \u001b[0max\u001b[0m \u001b[1;33m=\u001b[0m \u001b[0mfig\u001b[0m\u001b[1;33m.\u001b[0m\u001b[0mgca\u001b[0m\u001b[1;33m(\u001b[0m\u001b[0mprojection\u001b[0m\u001b[1;33m=\u001b[0m\u001b[1;34m'3d'\u001b[0m\u001b[1;33m)\u001b[0m\u001b[1;33m\u001b[0m\u001b[0m\n\u001b[1;32m----> 3\u001b[1;33m \u001b[0max\u001b[0m\u001b[1;33m.\u001b[0m\u001b[0mplot_surface\u001b[0m\u001b[1;33m(\u001b[0m\u001b[0mX\u001b[0m\u001b[1;33m[\u001b[0m\u001b[1;33m:\u001b[0m\u001b[1;33m,\u001b[0m\u001b[1;36m1\u001b[0m\u001b[1;33m]\u001b[0m\u001b[1;33m,\u001b[0m \u001b[0mX\u001b[0m\u001b[1;33m[\u001b[0m\u001b[1;33m:\u001b[0m\u001b[1;33m,\u001b[0m\u001b[1;36m2\u001b[0m\u001b[1;33m]\u001b[0m\u001b[1;33m,\u001b[0m \u001b[0mpre\u001b[0m\u001b[1;33m,\u001b[0m \u001b[0mcmap\u001b[0m\u001b[1;33m=\u001b[0m\u001b[0mcm\u001b[0m\u001b[1;33m.\u001b[0m\u001b[0mjet\u001b[0m\u001b[1;33m)\u001b[0m\u001b[1;33m\u001b[0m\u001b[0m\n\u001b[0m\u001b[0;32m      4\u001b[0m \u001b[1;31m#ax.plot(X[:,1], X[:,2], pre, label='z')\u001b[0m\u001b[1;33m\u001b[0m\u001b[1;33m\u001b[0m\u001b[0m\n\u001b[0;32m      5\u001b[0m \u001b[0mplt\u001b[0m\u001b[1;33m.\u001b[0m\u001b[0mxlabel\u001b[0m\u001b[1;33m(\u001b[0m\u001b[1;34m'§0'\u001b[0m\u001b[1;33m)\u001b[0m\u001b[1;33m\u001b[0m\u001b[0m\n",
      "\u001b[1;31mNameError\u001b[0m: name 'pre' is not defined"
     ]
    }
   ],
   "source": [
    "fig = plt.figure()\n",
    "ax = fig.gca(projection='3d')\n",
    "ax.plot_surface(X[:,1], X[:,2], pre, cmap=cm.jet)\n",
    "#ax.plot(X[:,1], X[:,2], pre, label='z')\n",
    "plt.xlabel('§0')\n",
    "plt.ylabel('§1')\n",
    "plt.show()"
   ]
  },
  {
   "cell_type": "code",
   "execution_count": 271,
   "metadata": {},
   "outputs": [
    {
     "ename": "SyntaxError",
     "evalue": "invalid syntax (<ipython-input-271-95779b15ba75>, line 1)",
     "output_type": "error",
     "traceback": [
      "\u001b[1;36m  File \u001b[1;32m\"<ipython-input-271-95779b15ba75>\"\u001b[1;36m, line \u001b[1;32m1\u001b[0m\n\u001b[1;33m    cplot = plt.contour((X[:,1], X[:,2], pre, levels=np.geomspace(pre.min()*1.0001, pre.max(), num=8))\u001b[0m\n\u001b[1;37m                                                    ^\u001b[0m\n\u001b[1;31mSyntaxError\u001b[0m\u001b[1;31m:\u001b[0m invalid syntax\n"
     ]
    }
   ],
   "source": [
    "cplot = plt.contour((X[:,1], X[:,2], pre, levels=np.geomspace(pre.min()*1.0001, pre.max(), num=8))\n",
    "plt.clabel(cplot)\n",
    "plt.xlabel('§0')\n",
    "plt.ylabel('§1')"
   ]
  },
  {
   "cell_type": "code",
   "execution_count": 11,
   "metadata": {},
   "outputs": [],
   "source": [
    "i=0\n",
    "J_cost = np.zeros(5*iterations).reshape(5,iterations)\n",
    "for alpha in np.geomspace(.001, 1, num=4):\n",
    "    theta = np.zeros(3).reshape(3,1)\n",
    "    theta, J_cost[i] = gradientDescent.gradientDescent(X_norm, y, theta, alpha, iterations)\n",
    "    i+=1 \n",
    "alpha = 2\n",
    "theta = np.zeros(3).reshape(3,1)\n",
    "theta, J_cost[i] = gradientDescent.gradientDescent(X_norm, y, theta, alpha, iterations)"
   ]
  },
  {
   "cell_type": "code",
   "execution_count": 14,
   "metadata": {},
   "outputs": [
    {
     "data": {
      "image/png": "[encoded data removed]",
      "text/plain": [
       "<matplotlib.figure.Figure at 0x10d0c9518>"
      ]
     },
     "metadata": {},
     "output_type": "display_data"
    }
   ],
   "source": [
    "x_vals = range(iterations)\n",
    "costG1 = plt.plot(x_vals, J_cost[0], label='.001')\n",
    "costG2 = plt.plot(J_cost[1], label='.01')\n",
    "costG3 = plt.plot(J_cost[2], label='.1', color='y')\n",
    "costG4 = plt.plot(J_cost[3], label='1')\n",
    "costG5 = plt.plot(J_cost[4], label='2')\n",
    "plt.legend(loc=1)\n",
    "plt.xlim(xmax=50, xmin=0)\n",
    "plt.show()"
   ]
  },
  {
   "cell_type": "code",
   "execution_count": 15,
   "metadata": {},
   "outputs": [
    {
     "name": "stdout",
     "output_type": "stream",
     "text": [
      "Prediction\n",
      "The price of 1650 sq-ft 3 br house is about $-39214.63\n",
      "Comparison to test set:\n"
     ]
    },
    {
     "data": {
      "text/plain": [
       "array([[ 329900.],\n",
       "       [ 242900.],\n",
       "       [ 368500.]])"
      ]
     },
     "execution_count": 15,
     "metadata": {},
     "output_type": "execute_result"
    }
   ],
   "source": [
    "print('Prediction')\n",
    "X_pred = np.array([1650, 3]).reshape(1,2)\n",
    "X_pred = np.append(np.ones(1).reshape(1,1), (X_pred - u) / sigma)\n",
    "print('The price of 1650 sq-ft 3 br house is about $%.2f' %X_pred.dot(theta))\n",
    "print('Comparison to test set:')\n",
    "y[np.where((X[:,1] > .95*1650) & (X[:,1] < 1.05*1650))]"
   ]
  },
  {
   "cell_type": "code",
   "execution_count": 16,
   "metadata": {
    "collapsed": true
   },
   "outputs": [],
   "source": [
    "import normalEqn\n",
    "importlib.reload(normalEqn)\n",
    "theta_nEqn = normalEqn.normalEqn(X, y)"
   ]
  },
  {
   "cell_type": "code",
   "execution_count": 17,
   "metadata": {},
   "outputs": [
    {
     "name": "stdout",
     "output_type": "stream",
     "text": [
      "Prediction with normal equation\n",
      "The price of 1650 sq-ft 3 br house is about $293081.46\n",
      "Comparison to test set:\n"
     ]
    },
    {
     "data": {
      "text/plain": [
       "array([[ 329900.],\n",
       "       [ 242900.],\n",
       "       [ 368500.]])"
      ]
     },
     "execution_count": 17,
     "metadata": {},
     "output_type": "execute_result"
    }
   ],
   "source": [
    "print('Prediction with normal equation')\n",
    "X_pred_nEqn = np.array([1, 1650, 3]).reshape(1,3)\n",
    "X_pred_nEqn.dot(theta_nEqn)\n",
    "print('The price of 1650 sq-ft 3 br house is about $%.2f' %X_pred_nEqn.dot(theta_nEqn))\n",
    "print('Comparison to test set:')\n",
    "y[np.where((X[:,1] > .95*1650) & (X[:,1] < 1.05*1650))]"
   ]
  }
 ],
 "metadata": {
  "kernelspec": {
   "display_name": "Python 3",
   "language": "python",
   "name": "python3"
  },
  "language_info": {
   "codemirror_mode": {
    "name": "ipython",
    "version": 3
   },
   "file_extension": ".py",
   "mimetype": "text/x-python",
   "name": "python",
   "nbconvert_exporter": "python",
   "pygments_lexer": "ipython3",
   "version": "3.6.1"
  }
 },
 "nbformat": 4,
 "nbformat_minor": 2
}
