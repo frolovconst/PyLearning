{
 "cells": [
  {
   "cell_type": "code",
   "execution_count": 1,
   "metadata": {},
   "outputs": [
    {
     "name": "stdout",
     "output_type": "stream",
     "text": [
      "Running warmUpExercise...\n",
      "5x5 Identity Matrix\n"
     ]
    },
    {
     "data": {
      "text/plain": [
       "array([[ 1.,  0.,  0.,  0.,  0.],\n",
       "       [ 0.,  1.,  0.,  0.,  0.],\n",
       "       [ 0.,  0.,  1.,  0.,  0.],\n",
       "       [ 0.,  0.,  0.,  1.,  0.],\n",
       "       [ 0.,  0.,  0.,  0.,  1.]])"
      ]
     },
     "execution_count": 1,
     "metadata": {},
     "output_type": "execute_result"
    }
   ],
   "source": [
    "import warmUpExercise\n",
    "import plotData\n",
    "print('Running warmUpExercise...')\n",
    "print('5x5 Identity Matrix')\n",
    "warmUpExercise.warmUpExercise()"
   ]
  },
  {
   "cell_type": "code",
   "execution_count": 2,
   "metadata": {},
   "outputs": [
    {
     "name": "stdout",
     "output_type": "stream",
     "text": [
      "Plotting data...\n"
     ]
    },
    {
     "data": {
      "image/png": "[encoded data removed]",
      "text/plain": [
       "<matplotlib.figure.Figure at 0x262b3a86dd8>"
      ]
     },
     "metadata": {},
     "output_type": "display_data"
    }
   ],
   "source": [
    "import numpy as np\n",
    "print('Plotting data...')\n",
    "data = np.loadtxt('ex1data1.txt', delimiter=',')\n",
    "X = data[:,0]; y = data[:,1]\n",
    "m = X.shape[0]\n",
    "X = X.reshape(m,1); y = y.reshape(m,1)\n",
    "plotData.plotData(X, y)"
   ]
  },
  {
   "cell_type": "code",
   "execution_count": 3,
   "metadata": {},
   "outputs": [],
   "source": [
    "X = np.append(np.ones(m).reshape(m,1), X, axis=1)"
   ]
  },
  {
   "cell_type": "code",
   "execution_count": 139,
   "metadata": {},
   "outputs": [],
   "source": [
    "theta = np.zeros(2).reshape(2,1)"
   ]
  },
  {
   "cell_type": "code",
   "execution_count": 128,
   "metadata": {
    "collapsed": true
   },
   "outputs": [],
   "source": [
    "iterations = 1500\n",
    "alpha = .01"
   ]
  },
  {
   "cell_type": "code",
   "execution_count": 140,
   "metadata": {},
   "outputs": [
    {
     "name": "stdout",
     "output_type": "stream",
     "text": [
      "Testing the cost foo\n",
      "With theta = [0,0]\n",
      "Cost computed = 32.07\n",
      "With theta = [-1,2]\n",
      "Cost computed = 54.24\n"
     ]
    }
   ],
   "source": [
    "import costFunctionJ\n",
    "print('Testing the cost foo')\n",
    "J = costFunctionJ.costFunctionJ(X, y, theta)\n",
    "print('With theta = [0,0]\\nCost computed = %.2f' %J)\n",
    "J = costFunctionJ.costFunctionJ(X, y, np.array([-1, 2]).reshape(2,1))\n",
    "print('With theta = [-1,2]\\nCost computed = %.2f' %J)"
   ]
  },
  {
   "cell_type": "code",
   "execution_count": 138,
   "metadata": {},
   "outputs": [],
   "source": [
    "def gradientDescent(X, y, theta, alpha, num_iters):\n",
    "    m = X.shape[0]\n",
    "    temp_theta = theta\n",
    "#    print('theta:'); print(theta)\n",
    "    J_history = np.zeros(num_iters)\n",
    "    for i in range (num_iters):\n",
    "        J_history[i] = costFunctionJ.costFunctionJ(X, y, theta)\n",
    "        for j in range(theta.shape[0]):\n",
    "            temp_theta[j] = theta[j] - alpha / m * ((X.dot(theta) - y) * X[:,j].reshape(m,1)).sum()\n",
    "        theta = temp_theta\n",
    "#        print(theta)\n",
    "#        print('J = %f.2' %J_history[i])\n",
    "    return theta, J_history"
   ]
  },
  {
   "cell_type": "code",
   "execution_count": 135,
   "metadata": {},
   "outputs": [],
   "source": [
    "test_theta, hstry = gradientDescent(X, y, theta, alpha, iterations)"
   ]
  },
  {
   "cell_type": "code",
   "execution_count": 126,
   "metadata": {},
   "outputs": [
    {
     "name": "stdout",
     "output_type": "stream",
     "text": [
      "[[-3.64074502]\n",
      " [ 1.16745862]]\n"
     ]
    }
   ],
   "source": [
    "print(test_theta)"
   ]
  },
  {
   "cell_type": "code",
   "execution_count": 137,
   "metadata": {},
   "outputs": [
    {
     "data": {
      "text/plain": [
       "6.7937276907175193"
      ]
     },
     "execution_count": 137,
     "metadata": {},
     "output_type": "execute_result"
    }
   ],
   "source": [
    "hstry[0]"
   ]
  }
 ],
 "metadata": {
  "kernelspec": {
   "display_name": "Python 3",
   "language": "python",
   "name": "python3"
  },
  "language_info": {
   "codemirror_mode": {
    "name": "ipython",
    "version": 3
   },
   "file_extension": ".py",
   "mimetype": "text/x-python",
   "name": "python",
   "nbconvert_exporter": "python",
   "pygments_lexer": "ipython3",
   "version": "3.6.1"
  }
 },
 "nbformat": 4,
 "nbformat_minor": 2
}
