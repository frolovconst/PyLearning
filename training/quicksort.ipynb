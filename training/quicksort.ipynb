{
 "cells": [
  {
   "cell_type": "code",
   "execution_count": 4,
   "metadata": {},
   "outputs": [],
   "source": [
    "from random import randint"
   ]
  },
  {
   "cell_type": "code",
   "execution_count": 5,
   "metadata": {},
   "outputs": [],
   "source": [
    "TEST_LEN = 10"
   ]
  },
  {
   "cell_type": "code",
   "execution_count": 1,
   "metadata": {},
   "outputs": [],
   "source": [
    "def swap(arr, ix1, ix2):\n",
    "    bfr = arr[ix1]\n",
    "    arr[ix1] = arr[ix2]\n",
    "    arr[ix2] = bfr"
   ]
  },
  {
   "cell_type": "code",
   "execution_count": 337,
   "metadata": {},
   "outputs": [],
   "source": [
    "def partition(arr, lo, hi):\n",
    "    l = lo + 1\n",
    "    r = hi\n",
    "    while l <= r:\n",
    "        if arr[l] >= arr[lo]:\n",
    "            swap(arr, l, r)\n",
    "            r -= 1\n",
    "        else:\n",
    "            l += 1\n",
    "    swap(arr, r, lo)\n",
    "    return r"
   ]
  },
  {
   "cell_type": "code",
   "execution_count": 371,
   "metadata": {},
   "outputs": [],
   "source": [
    "def QS(arr, lo, hi):\n",
    "    if lo < hi:\n",
    "        p = partition(arr, lo, hi)\n",
    "        QS(arr, lo, p)\n",
    "        QS(arr, p+1, hi)\n",
    "    else:\n",
    "        return"
   ]
  },
  {
   "cell_type": "code",
   "execution_count": null,
   "metadata": {},
   "outputs": [],
   "source": []
  },
  {
   "cell_type": "code",
   "execution_count": 519,
   "metadata": {},
   "outputs": [
    {
     "name": "stdout",
     "output_type": "stream",
     "text": [
      "[1, 6, 3, 2, 5, 10, 9, 2, 3, 1]\n",
      "[1, 1, 2, 2, 3, 3, 5, 6, 9, 10]\n"
     ]
    },
    {
     "data": {
      "text/plain": [
       "True"
      ]
     },
     "execution_count": 519,
     "metadata": {},
     "output_type": "execute_result"
    }
   ],
   "source": [
    "test_arr = [randint(0, 10) for i in range(TEST_LEN)]\n",
    "\n",
    "# test_arr = [9, 7, 9, 2, 1, 6, 10, 7, 2, 1]\n",
    "\n",
    "# test_arr = [1, 7, 5, 1, 4, 10, 2, 0, 2, 4]\n",
    "\n",
    "print(test_arr)\n",
    "\n",
    "QS(test_arr, 0, len(test_arr)-1)\n",
    "\n",
    "print(test_arr)\n",
    "\n",
    "\n",
    "\n",
    "all(test_arr[i] <= test_arr[i+1] for i in range(len(test_arr)-1))"
   ]
  },
  {
   "cell_type": "code",
   "execution_count": 520,
   "metadata": {},
   "outputs": [
    {
     "name": "stdout",
     "output_type": "stream",
     "text": [
      "zefir\n"
     ]
    }
   ],
   "source": [
    "print('zefir')"
   ]
  },
  {
   "cell_type": "code",
   "execution_count": 521,
   "metadata": {},
   "outputs": [],
   "source": [
    "y=5 "
   ]
  },
  {
   "cell_type": "code",
   "execution_count": 522,
   "metadata": {},
   "outputs": [
    {
     "data": {
      "text/plain": [
       "5"
      ]
     },
     "execution_count": 522,
     "metadata": {},
     "output_type": "execute_result"
    }
   ],
   "source": [
    "y"
   ]
  },
  {
   "cell_type": "code",
   "execution_count": 523,
   "metadata": {},
   "outputs": [],
   "source": [
    "def kotiki(x,y):\n",
    "    return x+y"
   ]
  },
  {
   "cell_type": "code",
   "execution_count": 524,
   "metadata": {},
   "outputs": [
    {
     "data": {
      "text/plain": [
       "176"
      ]
     },
     "execution_count": 524,
     "metadata": {},
     "output_type": "execute_result"
    }
   ],
   "source": [
    "kotiki(78,98)"
   ]
  },
  {
   "cell_type": "code",
   "execution_count": null,
   "metadata": {},
   "outputs": [],
   "source": []
  }
 ],
 "metadata": {
  "kernelspec": {
   "display_name": "Python 3",
   "language": "python",
   "name": "python3"
  },
  "language_info": {
   "codemirror_mode": {
    "name": "ipython",
    "version": 3
   },
   "file_extension": ".py",
   "mimetype": "text/x-python",
   "name": "python",
   "nbconvert_exporter": "python",
   "pygments_lexer": "ipython3",
   "version": "3.6.6"
  }
 },
 "nbformat": 4,
 "nbformat_minor": 2
}
