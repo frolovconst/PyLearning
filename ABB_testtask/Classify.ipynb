{
 "cells": [
  {
   "cell_type": "code",
   "execution_count": 1,
   "metadata": {
    "collapsed": true
   },
   "outputs": [],
   "source": [
    "import pandas as pd"
   ]
  },
  {
   "cell_type": "code",
   "execution_count": 3,
   "metadata": {
    "collapsed": false
   },
   "outputs": [],
   "source": [
    "raw_data = pd.read_csv(\"card.csv\", sep = ';')"
   ]
  },
  {
   "cell_type": "code",
   "execution_count": 4,
   "metadata": {
    "collapsed": true
   },
   "outputs": [],
   "source": [
    "data = raw_data"
   ]
  },
  {
   "cell_type": "code",
   "execution_count": 6,
   "metadata": {
    "collapsed": false
   },
   "outputs": [
    {
     "data": {
      "text/plain": [
       "date of birth    datetime64[ns]:dense\n",
       "age                       int64:dense\n",
       "sex                      object:dense\n",
       "account                  object:dense\n",
       "id                       object:dense\n",
       "issued                    int64:dense\n",
       "active                    int64:dense\n",
       "payroll                   int64:dense\n",
       "segment                  object:dense\n",
       "dtype: object"
      ]
     },
     "execution_count": 6,
     "metadata": {},
     "output_type": "execute_result"
    }
   ],
   "source": [
    "data.ftypes"
   ]
  },
  {
   "cell_type": "code",
   "execution_count": 5,
   "metadata": {
    "collapsed": false
   },
   "outputs": [],
   "source": [
    "a = raw_data[[0]].apply(pd.to_datetime)\n",
    "data['date of birth'] = a['date of birth']\n"
   ]
  },
  {
   "cell_type": "code",
   "execution_count": 6,
   "metadata": {
    "collapsed": true
   },
   "outputs": [],
   "source": [
    "for col in ['sex', 'account', 'segment']:\n",
    "    data[col] = data[col].astype('category')\n",
    "    data[col] = data[col].cat.codes"
   ]
  },
  {
   "cell_type": "code",
   "execution_count": 7,
   "metadata": {
    "collapsed": false
   },
   "outputs": [],
   "source": [
    "bcp_data = data"
   ]
  },
  {
   "cell_type": "code",
   "execution_count": 8,
   "metadata": {
    "collapsed": false
   },
   "outputs": [],
   "source": [
    "iData = data.drop(data[data.issued == 0].index)"
   ]
  },
  {
   "cell_type": "code",
   "execution_count": 9,
   "metadata": {
    "collapsed": false
   },
   "outputs": [
    {
     "data": {
      "text/plain": [
       "array([0, 1])"
      ]
     },
     "execution_count": 9,
     "metadata": {},
     "output_type": "execute_result"
    }
   ],
   "source": [
    "iData.active.unique()"
   ]
  },
  {
   "cell_type": "code",
   "execution_count": 28,
   "metadata": {
    "collapsed": false
   },
   "outputs": [],
   "source": [
    "piData = data.drop(data[data.issued == 1].index)"
   ]
  },
  {
   "cell_type": "code",
   "execution_count": 30,
   "metadata": {
    "collapsed": false
   },
   "outputs": [
    {
     "data": {
      "text/plain": [
       "(816, 9)"
      ]
     },
     "execution_count": 30,
     "metadata": {},
     "output_type": "execute_result"
    }
   ],
   "source": [
    "data[(data['issued'] == 1) & (data['active'] == 1)].shape"
   ]
  },
  {
   "cell_type": "code",
   "execution_count": 10,
   "metadata": {
    "collapsed": false
   },
   "outputs": [
    {
     "name": "stderr",
     "output_type": "stream",
     "text": [
      "/opt/anaconda3/lib/python3.6/site-packages/sklearn/cross_validation.py:44: DeprecationWarning: This module was deprecated in version 0.18 in favor of the model_selection module into which all the refactored classes and functions are moved. Also note that the interface of the new CV iterators are different from that of this module. This module will be removed in 0.20.\n",
      "  \"This module will be removed in 0.20.\", DeprecationWarning)\n"
     ]
    }
   ],
   "source": [
    "from sklearn.cross_validation import train_test_split"
   ]
  },
  {
   "cell_type": "code",
   "execution_count": 123,
   "metadata": {
    "collapsed": false
   },
   "outputs": [
    {
     "data": {
      "text/plain": [
       "(5783, 8)"
      ]
     },
     "execution_count": 123,
     "metadata": {},
     "output_type": "execute_result"
    }
   ],
   "source": [
    "iData.drop(iData[['active']], axis=1).shape"
   ]
  },
  {
   "cell_type": "code",
   "execution_count": 19,
   "metadata": {
    "collapsed": false
   },
   "outputs": [],
   "source": [
    " #train_test_split(pdonations[[\"contbr_st\", \"contbr_occupation\", \"cand_nm\"]], pdonations[\"contb_receipt_amt\"], test_size=0.33, random_state=1)\n",
    "#train, test, y_train, y_test = train_test_split(iData.drop(iData[['active', 'id']], axis=1), iData['active'], test_size=.33, random_state=1)\n",
    "train, test, y_train, y_test = train_test_split(iData[[1,2,3,7,8]], iData['active'], test_size=.33, random_state=1)"
   ]
  },
  {
   "cell_type": "code",
   "execution_count": 20,
   "metadata": {
    "collapsed": false
   },
   "outputs": [
    {
     "data": {
      "text/html": [
       "<div>\n",
       "<table border=\"1\" class=\"dataframe\">\n",
       "  <thead>\n",
       "    <tr style=\"text-align: right;\">\n",
       "      <th></th>\n",
       "      <th>age</th>\n",
       "      <th>sex</th>\n",
       "      <th>account</th>\n",
       "      <th>payroll</th>\n",
       "      <th>segment</th>\n",
       "    </tr>\n",
       "  </thead>\n",
       "  <tbody>\n",
       "    <tr>\n",
       "      <th>20278</th>\n",
       "      <td>26</td>\n",
       "      <td>1</td>\n",
       "      <td>4</td>\n",
       "      <td>1</td>\n",
       "      <td>5</td>\n",
       "    </tr>\n",
       "    <tr>\n",
       "      <th>8116</th>\n",
       "      <td>49</td>\n",
       "      <td>1</td>\n",
       "      <td>2</td>\n",
       "      <td>0</td>\n",
       "      <td>5</td>\n",
       "    </tr>\n",
       "  </tbody>\n",
       "</table>\n",
       "</div>"
      ],
      "text/plain": [
       "       age  sex  account  payroll  segment\n",
       "20278   26    1        4        1        5\n",
       "8116    49    1        2        0        5"
      ]
     },
     "execution_count": 20,
     "metadata": {},
     "output_type": "execute_result"
    }
   ],
   "source": [
    "train.head(2)"
   ]
  },
  {
   "cell_type": "code",
   "execution_count": null,
   "metadata": {
    "collapsed": true
   },
   "outputs": [],
   "source": []
  },
  {
   "cell_type": "code",
   "execution_count": 13,
   "metadata": {
    "collapsed": true
   },
   "outputs": [],
   "source": [
    "from sklearn import metrics\n",
    "from sklearn.linear_model import LogisticRegression"
   ]
  },
  {
   "cell_type": "code",
   "execution_count": 38,
   "metadata": {
    "collapsed": true
   },
   "outputs": [],
   "source": [
    "from sklearn.svm import SVC"
   ]
  },
  {
   "cell_type": "code",
   "execution_count": 91,
   "metadata": {
    "collapsed": true
   },
   "outputs": [],
   "source": [
    "from sklearn.naive_bayes import GaussianNB"
   ]
  },
  {
   "cell_type": "code",
   "execution_count": 96,
   "metadata": {
    "collapsed": true
   },
   "outputs": [],
   "source": [
    "from sklearn.tree import DecisionTreeClassifier"
   ]
  },
  {
   "cell_type": "code",
   "execution_count": 39,
   "metadata": {
    "collapsed": true
   },
   "outputs": [],
   "source": [
    "model1 = SVC()"
   ]
  },
  {
   "cell_type": "code",
   "execution_count": 21,
   "metadata": {
    "collapsed": false
   },
   "outputs": [
    {
     "data": {
      "text/plain": [
       "LogisticRegression(C=1.0, class_weight='balanced', dual=False,\n",
       "          fit_intercept=True, intercept_scaling=1, max_iter=100,\n",
       "          multi_class='ovr', n_jobs=1, penalty='l2', random_state=None,\n",
       "          solver='liblinear', tol=0.0001, verbose=0, warm_start=False)"
      ]
     },
     "execution_count": 21,
     "metadata": {},
     "output_type": "execute_result"
    }
   ],
   "source": [
    "model = LogisticRegression(class_weight='balanced')\n",
    "model.fit(train,y_train)"
   ]
  },
  {
   "cell_type": "code",
   "execution_count": 40,
   "metadata": {
    "collapsed": false
   },
   "outputs": [
    {
     "data": {
      "text/plain": [
       "SVC(C=1.0, cache_size=200, class_weight=None, coef0=0.0,\n",
       "  decision_function_shape=None, degree=3, gamma='auto', kernel='rbf',\n",
       "  max_iter=-1, probability=False, random_state=None, shrinking=True,\n",
       "  tol=0.001, verbose=False)"
      ]
     },
     "execution_count": 40,
     "metadata": {},
     "output_type": "execute_result"
    }
   ],
   "source": [
    "model1.fit(train, y_train)"
   ]
  },
  {
   "cell_type": "code",
   "execution_count": 22,
   "metadata": {
    "collapsed": true
   },
   "outputs": [],
   "source": [
    "predicted = model.predict(test)"
   ]
  },
  {
   "cell_type": "code",
   "execution_count": 23,
   "metadata": {
    "collapsed": false
   },
   "outputs": [
    {
     "name": "stdout",
     "output_type": "stream",
     "text": [
      "             precision    recall  f1-score   support\n",
      "\n",
      "          0       0.65      0.91      0.76      1195\n",
      "          1       0.57      0.19      0.29       714\n",
      "\n",
      "avg / total       0.62      0.64      0.58      1909\n",
      "\n"
     ]
    }
   ],
   "source": [
    "print(metrics.classification_report(predicted,  y_test))\n",
    "#print(metrics.confusion_matrix(y_test, predicted))"
   ]
  },
  {
   "cell_type": "code",
   "execution_count": 25,
   "metadata": {
    "collapsed": true
   },
   "outputs": [],
   "source": [
    "import numpy as np"
   ]
  },
  {
   "cell_type": "code",
   "execution_count": 101,
   "metadata": {
    "collapsed": true
   },
   "outputs": [],
   "source": [
    "a = np.array([predicted, y_test])"
   ]
  },
  {
   "cell_type": "code",
   "execution_count": 48,
   "metadata": {
    "collapsed": false
   },
   "outputs": [
    {
     "data": {
      "text/plain": [
       "array([0])"
      ]
     },
     "execution_count": 48,
     "metadata": {},
     "output_type": "execute_result"
    }
   ],
   "source": [
    "np.unique(predicted)"
   ]
  },
  {
   "cell_type": "code",
   "execution_count": 26,
   "metadata": {
    "collapsed": false
   },
   "outputs": [
    {
     "data": {
      "text/plain": [
       "714"
      ]
     },
     "execution_count": 26,
     "metadata": {},
     "output_type": "execute_result"
    }
   ],
   "source": [
    "np.count_nonzero(predicted)"
   ]
  },
  {
   "cell_type": "code",
   "execution_count": 104,
   "metadata": {
    "collapsed": false
   },
   "outputs": [],
   "source": [
    "a = np.transpose(a)"
   ]
  },
  {
   "cell_type": "code",
   "execution_count": 105,
   "metadata": {
    "collapsed": false
   },
   "outputs": [
    {
     "name": "stdout",
     "output_type": "stream",
     "text": [
      "200\n",
      "447\n",
      "702\n",
      "829\n",
      "940\n",
      "1158\n",
      "1254\n",
      "1631\n"
     ]
    }
   ],
   "source": [
    "for i in range(1909):\n",
    "    if (a[i][0] == a[i][1] == 1):\n",
    "        print(i)"
   ]
  },
  {
   "cell_type": "code",
   "execution_count": 129,
   "metadata": {
    "collapsed": false
   },
   "outputs": [
    {
     "data": {
      "text/plain": [
       "<matplotlib.axes._subplots.AxesSubplot at 0x7f728e17d7f0>"
      ]
     },
     "execution_count": 129,
     "metadata": {},
     "output_type": "execute_result"
    }
   ],
   "source": [
    "iData.plot.scatter(x='sex', y='active')"
   ]
  },
  {
   "cell_type": "code",
   "execution_count": 146,
   "metadata": {
    "collapsed": true
   },
   "outputs": [],
   "source": [
    "ifData = iData[iData['sex']==1]\n",
    "imData = iData[iData['sex']==2]"
   ]
  },
  {
   "cell_type": "code",
   "execution_count": 157,
   "metadata": {
    "collapsed": false,
    "scrolled": true
   },
   "outputs": [
    {
     "data": {
      "text/plain": [
       "(1514, 9)"
      ]
     },
     "execution_count": 157,
     "metadata": {},
     "output_type": "execute_result"
    }
   ],
   "source": [
    "imData.shape"
   ]
  },
  {
   "cell_type": "code",
   "execution_count": 151,
   "metadata": {
    "collapsed": false
   },
   "outputs": [],
   "source": [
    "infData = ifData[[1,3,5,6,7,8]]\n",
    "inmData = imData[[1,3,5,6,7,8]]\n",
    "#inData['age'] = iData['age']/max(iData['age'])\n",
    "inmData = (inmData - inmData.mean())/(inmData.max()-inmData.min())\n",
    "inmData['issued'] = imData['issued']\n",
    "inmData['active'] = imData['active']\n",
    "infData = (infData - infData.mean())/(infData.max()-infData.min())\n",
    "infData['issued'] = ifData['issued']\n",
    "infData['active'] = ifData['active']\n"
   ]
  },
  {
   "cell_type": "code",
   "execution_count": 171,
   "metadata": {
    "collapsed": false
   },
   "outputs": [
    {
     "data": {
      "text/plain": [
       "array([-0.01069978, -0.51069978, -0.17736645,  0.15596689,  0.32263355,\n",
       "        0.48930022])"
      ]
     },
     "execution_count": 171,
     "metadata": {},
     "output_type": "execute_result"
    }
   ],
   "source": [
    "infData.account.unique()"
   ]
  },
  {
   "cell_type": "code",
   "execution_count": 165,
   "metadata": {
    "collapsed": false
   },
   "outputs": [],
   "source": [
    "train, test, y_train, y_test = train_test_split(inmData[[0,1,4,5]], inmData['active'], test_size=.33, random_state=1)"
   ]
  },
  {
   "cell_type": "code",
   "execution_count": 167,
   "metadata": {
    "collapsed": false
   },
   "outputs": [
    {
     "data": {
      "text/plain": [
       "DecisionTreeClassifier(class_weight=None, criterion='gini', max_depth=None,\n",
       "            max_features=None, max_leaf_nodes=None,\n",
       "            min_impurity_split=1e-07, min_samples_leaf=1,\n",
       "            min_samples_split=2, min_weight_fraction_leaf=0.0,\n",
       "            presort=False, random_state=None, splitter='best')"
      ]
     },
     "execution_count": 167,
     "metadata": {},
     "output_type": "execute_result"
    }
   ],
   "source": [
    "model = DecisionTreeClassifier()\n",
    "model.fit(train,y_train)"
   ]
  },
  {
   "cell_type": "code",
   "execution_count": 168,
   "metadata": {
    "collapsed": false
   },
   "outputs": [],
   "source": [
    "predicted = model.predict(test)"
   ]
  },
  {
   "cell_type": "code",
   "execution_count": 169,
   "metadata": {
    "collapsed": false
   },
   "outputs": [
    {
     "name": "stdout",
     "output_type": "stream",
     "text": [
      "             precision    recall  f1-score   support\n",
      "\n",
      "          0       0.94      0.84      0.89       471\n",
      "          1       0.05      0.14      0.07        29\n",
      "\n",
      "avg / total       0.89      0.80      0.84       500\n",
      "\n"
     ]
    }
   ],
   "source": [
    "print(metrics.classification_report(predicted,  y_test))"
   ]
  },
  {
   "cell_type": "code",
   "execution_count": 170,
   "metadata": {
    "collapsed": false
   },
   "outputs": [
    {
     "data": {
      "text/html": [
       "<div>\n",
       "<table border=\"1\" class=\"dataframe\">\n",
       "  <thead>\n",
       "    <tr style=\"text-align: right;\">\n",
       "      <th></th>\n",
       "      <th>age</th>\n",
       "      <th>account</th>\n",
       "      <th>issued</th>\n",
       "      <th>active</th>\n",
       "      <th>payroll</th>\n",
       "      <th>segment</th>\n",
       "    </tr>\n",
       "  </thead>\n",
       "  <tbody>\n",
       "    <tr>\n",
       "      <th>0</th>\n",
       "      <td>0.336280</td>\n",
       "      <td>0.010635</td>\n",
       "      <td>1</td>\n",
       "      <td>0</td>\n",
       "      <td>-0.483832</td>\n",
       "      <td>-0.497735</td>\n",
       "    </tr>\n",
       "    <tr>\n",
       "      <th>1</th>\n",
       "      <td>-0.005492</td>\n",
       "      <td>0.010635</td>\n",
       "      <td>1</td>\n",
       "      <td>0</td>\n",
       "      <td>-0.483832</td>\n",
       "      <td>0.302265</td>\n",
       "    </tr>\n",
       "    <tr>\n",
       "      <th>2</th>\n",
       "      <td>0.108432</td>\n",
       "      <td>0.010635</td>\n",
       "      <td>1</td>\n",
       "      <td>0</td>\n",
       "      <td>-0.483832</td>\n",
       "      <td>-0.497735</td>\n",
       "    </tr>\n",
       "    <tr>\n",
       "      <th>3</th>\n",
       "      <td>0.197040</td>\n",
       "      <td>0.010635</td>\n",
       "      <td>1</td>\n",
       "      <td>0</td>\n",
       "      <td>-0.483832</td>\n",
       "      <td>-0.497735</td>\n",
       "    </tr>\n",
       "    <tr>\n",
       "      <th>4</th>\n",
       "      <td>0.159065</td>\n",
       "      <td>0.010635</td>\n",
       "      <td>1</td>\n",
       "      <td>0</td>\n",
       "      <td>0.516168</td>\n",
       "      <td>-0.497735</td>\n",
       "    </tr>\n",
       "    <tr>\n",
       "      <th>5</th>\n",
       "      <td>0.032483</td>\n",
       "      <td>0.010635</td>\n",
       "      <td>1</td>\n",
       "      <td>0</td>\n",
       "      <td>-0.483832</td>\n",
       "      <td>0.302265</td>\n",
       "    </tr>\n",
       "    <tr>\n",
       "      <th>6</th>\n",
       "      <td>0.070457</td>\n",
       "      <td>0.010635</td>\n",
       "      <td>1</td>\n",
       "      <td>0</td>\n",
       "      <td>0.516168</td>\n",
       "      <td>0.302265</td>\n",
       "    </tr>\n",
       "    <tr>\n",
       "      <th>7</th>\n",
       "      <td>0.260331</td>\n",
       "      <td>0.010635</td>\n",
       "      <td>1</td>\n",
       "      <td>0</td>\n",
       "      <td>-0.483832</td>\n",
       "      <td>-0.497735</td>\n",
       "    </tr>\n",
       "    <tr>\n",
       "      <th>8</th>\n",
       "      <td>0.222356</td>\n",
       "      <td>0.010635</td>\n",
       "      <td>1</td>\n",
       "      <td>0</td>\n",
       "      <td>-0.483832</td>\n",
       "      <td>-0.497735</td>\n",
       "    </tr>\n",
       "    <tr>\n",
       "      <th>9</th>\n",
       "      <td>0.159065</td>\n",
       "      <td>0.010635</td>\n",
       "      <td>1</td>\n",
       "      <td>0</td>\n",
       "      <td>-0.483832</td>\n",
       "      <td>-0.497735</td>\n",
       "    </tr>\n",
       "    <tr>\n",
       "      <th>10</th>\n",
       "      <td>0.336280</td>\n",
       "      <td>0.010635</td>\n",
       "      <td>1</td>\n",
       "      <td>1</td>\n",
       "      <td>-0.483832</td>\n",
       "      <td>-0.497735</td>\n",
       "    </tr>\n",
       "    <tr>\n",
       "      <th>11</th>\n",
       "      <td>0.209698</td>\n",
       "      <td>0.010635</td>\n",
       "      <td>1</td>\n",
       "      <td>0</td>\n",
       "      <td>0.516168</td>\n",
       "      <td>-0.497735</td>\n",
       "    </tr>\n",
       "    <tr>\n",
       "      <th>12</th>\n",
       "      <td>0.298306</td>\n",
       "      <td>0.010635</td>\n",
       "      <td>1</td>\n",
       "      <td>0</td>\n",
       "      <td>0.516168</td>\n",
       "      <td>-0.497735</td>\n",
       "    </tr>\n",
       "    <tr>\n",
       "      <th>13</th>\n",
       "      <td>0.323622</td>\n",
       "      <td>0.010635</td>\n",
       "      <td>1</td>\n",
       "      <td>0</td>\n",
       "      <td>-0.483832</td>\n",
       "      <td>-0.497735</td>\n",
       "    </tr>\n",
       "    <tr>\n",
       "      <th>14</th>\n",
       "      <td>0.133749</td>\n",
       "      <td>0.010635</td>\n",
       "      <td>1</td>\n",
       "      <td>0</td>\n",
       "      <td>-0.483832</td>\n",
       "      <td>-0.497735</td>\n",
       "    </tr>\n",
       "    <tr>\n",
       "      <th>15</th>\n",
       "      <td>0.450204</td>\n",
       "      <td>0.010635</td>\n",
       "      <td>1</td>\n",
       "      <td>0</td>\n",
       "      <td>-0.483832</td>\n",
       "      <td>-0.497735</td>\n",
       "    </tr>\n",
       "    <tr>\n",
       "      <th>16</th>\n",
       "      <td>0.146407</td>\n",
       "      <td>0.010635</td>\n",
       "      <td>1</td>\n",
       "      <td>0</td>\n",
       "      <td>-0.483832</td>\n",
       "      <td>-0.497735</td>\n",
       "    </tr>\n",
       "    <tr>\n",
       "      <th>17</th>\n",
       "      <td>0.070457</td>\n",
       "      <td>0.010635</td>\n",
       "      <td>1</td>\n",
       "      <td>1</td>\n",
       "      <td>0.516168</td>\n",
       "      <td>-0.497735</td>\n",
       "    </tr>\n",
       "    <tr>\n",
       "      <th>18</th>\n",
       "      <td>0.070457</td>\n",
       "      <td>0.010635</td>\n",
       "      <td>1</td>\n",
       "      <td>0</td>\n",
       "      <td>-0.483832</td>\n",
       "      <td>-0.497735</td>\n",
       "    </tr>\n",
       "    <tr>\n",
       "      <th>19</th>\n",
       "      <td>0.235014</td>\n",
       "      <td>0.010635</td>\n",
       "      <td>1</td>\n",
       "      <td>0</td>\n",
       "      <td>-0.483832</td>\n",
       "      <td>-0.497735</td>\n",
       "    </tr>\n",
       "    <tr>\n",
       "      <th>20</th>\n",
       "      <td>0.133749</td>\n",
       "      <td>0.010635</td>\n",
       "      <td>1</td>\n",
       "      <td>1</td>\n",
       "      <td>-0.483832</td>\n",
       "      <td>-0.497735</td>\n",
       "    </tr>\n",
       "    <tr>\n",
       "      <th>22</th>\n",
       "      <td>0.121090</td>\n",
       "      <td>0.010635</td>\n",
       "      <td>1</td>\n",
       "      <td>1</td>\n",
       "      <td>0.516168</td>\n",
       "      <td>-0.497735</td>\n",
       "    </tr>\n",
       "    <tr>\n",
       "      <th>26</th>\n",
       "      <td>-0.195365</td>\n",
       "      <td>0.010635</td>\n",
       "      <td>1</td>\n",
       "      <td>0</td>\n",
       "      <td>-0.483832</td>\n",
       "      <td>0.302265</td>\n",
       "    </tr>\n",
       "    <tr>\n",
       "      <th>29</th>\n",
       "      <td>0.260331</td>\n",
       "      <td>0.010635</td>\n",
       "      <td>1</td>\n",
       "      <td>0</td>\n",
       "      <td>-0.483832</td>\n",
       "      <td>-0.497735</td>\n",
       "    </tr>\n",
       "    <tr>\n",
       "      <th>30</th>\n",
       "      <td>0.247673</td>\n",
       "      <td>0.010635</td>\n",
       "      <td>1</td>\n",
       "      <td>1</td>\n",
       "      <td>-0.483832</td>\n",
       "      <td>-0.497735</td>\n",
       "    </tr>\n",
       "    <tr>\n",
       "      <th>32</th>\n",
       "      <td>0.146407</td>\n",
       "      <td>0.010635</td>\n",
       "      <td>1</td>\n",
       "      <td>0</td>\n",
       "      <td>-0.483832</td>\n",
       "      <td>-0.497735</td>\n",
       "    </tr>\n",
       "    <tr>\n",
       "      <th>37</th>\n",
       "      <td>0.171723</td>\n",
       "      <td>0.010635</td>\n",
       "      <td>1</td>\n",
       "      <td>0</td>\n",
       "      <td>-0.483832</td>\n",
       "      <td>-0.497735</td>\n",
       "    </tr>\n",
       "    <tr>\n",
       "      <th>39</th>\n",
       "      <td>0.146407</td>\n",
       "      <td>0.010635</td>\n",
       "      <td>1</td>\n",
       "      <td>0</td>\n",
       "      <td>-0.483832</td>\n",
       "      <td>-0.497735</td>\n",
       "    </tr>\n",
       "    <tr>\n",
       "      <th>41</th>\n",
       "      <td>0.361597</td>\n",
       "      <td>0.010635</td>\n",
       "      <td>1</td>\n",
       "      <td>0</td>\n",
       "      <td>-0.483832</td>\n",
       "      <td>-0.497735</td>\n",
       "    </tr>\n",
       "    <tr>\n",
       "      <th>43</th>\n",
       "      <td>0.146407</td>\n",
       "      <td>0.010635</td>\n",
       "      <td>1</td>\n",
       "      <td>0</td>\n",
       "      <td>-0.483832</td>\n",
       "      <td>-0.497735</td>\n",
       "    </tr>\n",
       "    <tr>\n",
       "      <th>...</th>\n",
       "      <td>...</td>\n",
       "      <td>...</td>\n",
       "      <td>...</td>\n",
       "      <td>...</td>\n",
       "      <td>...</td>\n",
       "      <td>...</td>\n",
       "    </tr>\n",
       "    <tr>\n",
       "      <th>22121</th>\n",
       "      <td>-0.043467</td>\n",
       "      <td>0.510635</td>\n",
       "      <td>1</td>\n",
       "      <td>0</td>\n",
       "      <td>0.516168</td>\n",
       "      <td>0.302265</td>\n",
       "    </tr>\n",
       "    <tr>\n",
       "      <th>22122</th>\n",
       "      <td>0.019825</td>\n",
       "      <td>0.510635</td>\n",
       "      <td>1</td>\n",
       "      <td>0</td>\n",
       "      <td>0.516168</td>\n",
       "      <td>0.302265</td>\n",
       "    </tr>\n",
       "    <tr>\n",
       "      <th>22123</th>\n",
       "      <td>-0.106758</td>\n",
       "      <td>0.510635</td>\n",
       "      <td>1</td>\n",
       "      <td>0</td>\n",
       "      <td>0.516168</td>\n",
       "      <td>0.302265</td>\n",
       "    </tr>\n",
       "    <tr>\n",
       "      <th>22124</th>\n",
       "      <td>-0.081441</td>\n",
       "      <td>0.510635</td>\n",
       "      <td>1</td>\n",
       "      <td>0</td>\n",
       "      <td>0.516168</td>\n",
       "      <td>0.302265</td>\n",
       "    </tr>\n",
       "    <tr>\n",
       "      <th>22126</th>\n",
       "      <td>-0.170049</td>\n",
       "      <td>0.510635</td>\n",
       "      <td>1</td>\n",
       "      <td>1</td>\n",
       "      <td>0.516168</td>\n",
       "      <td>0.302265</td>\n",
       "    </tr>\n",
       "    <tr>\n",
       "      <th>22127</th>\n",
       "      <td>0.108432</td>\n",
       "      <td>0.510635</td>\n",
       "      <td>1</td>\n",
       "      <td>0</td>\n",
       "      <td>0.516168</td>\n",
       "      <td>0.302265</td>\n",
       "    </tr>\n",
       "    <tr>\n",
       "      <th>22128</th>\n",
       "      <td>-0.081441</td>\n",
       "      <td>0.510635</td>\n",
       "      <td>1</td>\n",
       "      <td>0</td>\n",
       "      <td>0.516168</td>\n",
       "      <td>0.302265</td>\n",
       "    </tr>\n",
       "    <tr>\n",
       "      <th>22129</th>\n",
       "      <td>0.070457</td>\n",
       "      <td>0.510635</td>\n",
       "      <td>1</td>\n",
       "      <td>0</td>\n",
       "      <td>0.516168</td>\n",
       "      <td>0.302265</td>\n",
       "    </tr>\n",
       "    <tr>\n",
       "      <th>22131</th>\n",
       "      <td>0.007166</td>\n",
       "      <td>0.510635</td>\n",
       "      <td>1</td>\n",
       "      <td>1</td>\n",
       "      <td>0.516168</td>\n",
       "      <td>0.302265</td>\n",
       "    </tr>\n",
       "    <tr>\n",
       "      <th>22132</th>\n",
       "      <td>0.209698</td>\n",
       "      <td>0.510635</td>\n",
       "      <td>1</td>\n",
       "      <td>0</td>\n",
       "      <td>0.516168</td>\n",
       "      <td>-0.497735</td>\n",
       "    </tr>\n",
       "    <tr>\n",
       "      <th>22133</th>\n",
       "      <td>0.247673</td>\n",
       "      <td>0.510635</td>\n",
       "      <td>1</td>\n",
       "      <td>0</td>\n",
       "      <td>0.516168</td>\n",
       "      <td>-0.497735</td>\n",
       "    </tr>\n",
       "    <tr>\n",
       "      <th>22134</th>\n",
       "      <td>0.019825</td>\n",
       "      <td>0.510635</td>\n",
       "      <td>1</td>\n",
       "      <td>0</td>\n",
       "      <td>0.516168</td>\n",
       "      <td>0.302265</td>\n",
       "    </tr>\n",
       "    <tr>\n",
       "      <th>22135</th>\n",
       "      <td>0.133749</td>\n",
       "      <td>0.510635</td>\n",
       "      <td>1</td>\n",
       "      <td>0</td>\n",
       "      <td>0.516168</td>\n",
       "      <td>-0.497735</td>\n",
       "    </tr>\n",
       "    <tr>\n",
       "      <th>22136</th>\n",
       "      <td>0.146407</td>\n",
       "      <td>0.510635</td>\n",
       "      <td>1</td>\n",
       "      <td>0</td>\n",
       "      <td>0.516168</td>\n",
       "      <td>-0.497735</td>\n",
       "    </tr>\n",
       "    <tr>\n",
       "      <th>22137</th>\n",
       "      <td>0.095774</td>\n",
       "      <td>0.510635</td>\n",
       "      <td>1</td>\n",
       "      <td>0</td>\n",
       "      <td>0.516168</td>\n",
       "      <td>-0.497735</td>\n",
       "    </tr>\n",
       "    <tr>\n",
       "      <th>22138</th>\n",
       "      <td>0.019825</td>\n",
       "      <td>0.510635</td>\n",
       "      <td>1</td>\n",
       "      <td>0</td>\n",
       "      <td>-0.483832</td>\n",
       "      <td>0.302265</td>\n",
       "    </tr>\n",
       "    <tr>\n",
       "      <th>22139</th>\n",
       "      <td>0.083116</td>\n",
       "      <td>0.510635</td>\n",
       "      <td>1</td>\n",
       "      <td>0</td>\n",
       "      <td>0.516168</td>\n",
       "      <td>-0.497735</td>\n",
       "    </tr>\n",
       "    <tr>\n",
       "      <th>22140</th>\n",
       "      <td>0.209698</td>\n",
       "      <td>0.510635</td>\n",
       "      <td>1</td>\n",
       "      <td>0</td>\n",
       "      <td>0.516168</td>\n",
       "      <td>-0.497735</td>\n",
       "    </tr>\n",
       "    <tr>\n",
       "      <th>22141</th>\n",
       "      <td>0.133749</td>\n",
       "      <td>0.510635</td>\n",
       "      <td>1</td>\n",
       "      <td>0</td>\n",
       "      <td>0.516168</td>\n",
       "      <td>-0.497735</td>\n",
       "    </tr>\n",
       "    <tr>\n",
       "      <th>22142</th>\n",
       "      <td>-0.220682</td>\n",
       "      <td>0.510635</td>\n",
       "      <td>1</td>\n",
       "      <td>0</td>\n",
       "      <td>0.516168</td>\n",
       "      <td>0.302265</td>\n",
       "    </tr>\n",
       "    <tr>\n",
       "      <th>22143</th>\n",
       "      <td>0.083116</td>\n",
       "      <td>0.510635</td>\n",
       "      <td>1</td>\n",
       "      <td>0</td>\n",
       "      <td>0.516168</td>\n",
       "      <td>-0.497735</td>\n",
       "    </tr>\n",
       "    <tr>\n",
       "      <th>22144</th>\n",
       "      <td>0.032483</td>\n",
       "      <td>0.510635</td>\n",
       "      <td>1</td>\n",
       "      <td>0</td>\n",
       "      <td>0.516168</td>\n",
       "      <td>0.302265</td>\n",
       "    </tr>\n",
       "    <tr>\n",
       "      <th>22146</th>\n",
       "      <td>-0.144732</td>\n",
       "      <td>0.510635</td>\n",
       "      <td>1</td>\n",
       "      <td>0</td>\n",
       "      <td>0.516168</td>\n",
       "      <td>0.302265</td>\n",
       "    </tr>\n",
       "    <tr>\n",
       "      <th>22147</th>\n",
       "      <td>0.083116</td>\n",
       "      <td>0.510635</td>\n",
       "      <td>1</td>\n",
       "      <td>0</td>\n",
       "      <td>0.516168</td>\n",
       "      <td>-0.497735</td>\n",
       "    </tr>\n",
       "    <tr>\n",
       "      <th>22148</th>\n",
       "      <td>0.146407</td>\n",
       "      <td>0.510635</td>\n",
       "      <td>1</td>\n",
       "      <td>0</td>\n",
       "      <td>0.516168</td>\n",
       "      <td>-0.497735</td>\n",
       "    </tr>\n",
       "    <tr>\n",
       "      <th>22149</th>\n",
       "      <td>0.032483</td>\n",
       "      <td>0.510635</td>\n",
       "      <td>1</td>\n",
       "      <td>0</td>\n",
       "      <td>0.516168</td>\n",
       "      <td>0.302265</td>\n",
       "    </tr>\n",
       "    <tr>\n",
       "      <th>22150</th>\n",
       "      <td>-0.068783</td>\n",
       "      <td>0.510635</td>\n",
       "      <td>1</td>\n",
       "      <td>1</td>\n",
       "      <td>0.516168</td>\n",
       "      <td>0.302265</td>\n",
       "    </tr>\n",
       "    <tr>\n",
       "      <th>22151</th>\n",
       "      <td>-0.258656</td>\n",
       "      <td>0.510635</td>\n",
       "      <td>1</td>\n",
       "      <td>1</td>\n",
       "      <td>0.516168</td>\n",
       "      <td>0.302265</td>\n",
       "    </tr>\n",
       "    <tr>\n",
       "      <th>22152</th>\n",
       "      <td>-0.208024</td>\n",
       "      <td>0.510635</td>\n",
       "      <td>1</td>\n",
       "      <td>0</td>\n",
       "      <td>0.516168</td>\n",
       "      <td>0.302265</td>\n",
       "    </tr>\n",
       "    <tr>\n",
       "      <th>22153</th>\n",
       "      <td>0.070457</td>\n",
       "      <td>0.510635</td>\n",
       "      <td>1</td>\n",
       "      <td>0</td>\n",
       "      <td>0.516168</td>\n",
       "      <td>0.302265</td>\n",
       "    </tr>\n",
       "  </tbody>\n",
       "</table>\n",
       "<p>5783 rows × 6 columns</p>\n",
       "</div>"
      ],
      "text/plain": [
       "            age   account  issued  active   payroll   segment\n",
       "0      0.336280  0.010635       1       0 -0.483832 -0.497735\n",
       "1     -0.005492  0.010635       1       0 -0.483832  0.302265\n",
       "2      0.108432  0.010635       1       0 -0.483832 -0.497735\n",
       "3      0.197040  0.010635       1       0 -0.483832 -0.497735\n",
       "4      0.159065  0.010635       1       0  0.516168 -0.497735\n",
       "5      0.032483  0.010635       1       0 -0.483832  0.302265\n",
       "6      0.070457  0.010635       1       0  0.516168  0.302265\n",
       "7      0.260331  0.010635       1       0 -0.483832 -0.497735\n",
       "8      0.222356  0.010635       1       0 -0.483832 -0.497735\n",
       "9      0.159065  0.010635       1       0 -0.483832 -0.497735\n",
       "10     0.336280  0.010635       1       1 -0.483832 -0.497735\n",
       "11     0.209698  0.010635       1       0  0.516168 -0.497735\n",
       "12     0.298306  0.010635       1       0  0.516168 -0.497735\n",
       "13     0.323622  0.010635       1       0 -0.483832 -0.497735\n",
       "14     0.133749  0.010635       1       0 -0.483832 -0.497735\n",
       "15     0.450204  0.010635       1       0 -0.483832 -0.497735\n",
       "16     0.146407  0.010635       1       0 -0.483832 -0.497735\n",
       "17     0.070457  0.010635       1       1  0.516168 -0.497735\n",
       "18     0.070457  0.010635       1       0 -0.483832 -0.497735\n",
       "19     0.235014  0.010635       1       0 -0.483832 -0.497735\n",
       "20     0.133749  0.010635       1       1 -0.483832 -0.497735\n",
       "22     0.121090  0.010635       1       1  0.516168 -0.497735\n",
       "26    -0.195365  0.010635       1       0 -0.483832  0.302265\n",
       "29     0.260331  0.010635       1       0 -0.483832 -0.497735\n",
       "30     0.247673  0.010635       1       1 -0.483832 -0.497735\n",
       "32     0.146407  0.010635       1       0 -0.483832 -0.497735\n",
       "37     0.171723  0.010635       1       0 -0.483832 -0.497735\n",
       "39     0.146407  0.010635       1       0 -0.483832 -0.497735\n",
       "41     0.361597  0.010635       1       0 -0.483832 -0.497735\n",
       "43     0.146407  0.010635       1       0 -0.483832 -0.497735\n",
       "...         ...       ...     ...     ...       ...       ...\n",
       "22121 -0.043467  0.510635       1       0  0.516168  0.302265\n",
       "22122  0.019825  0.510635       1       0  0.516168  0.302265\n",
       "22123 -0.106758  0.510635       1       0  0.516168  0.302265\n",
       "22124 -0.081441  0.510635       1       0  0.516168  0.302265\n",
       "22126 -0.170049  0.510635       1       1  0.516168  0.302265\n",
       "22127  0.108432  0.510635       1       0  0.516168  0.302265\n",
       "22128 -0.081441  0.510635       1       0  0.516168  0.302265\n",
       "22129  0.070457  0.510635       1       0  0.516168  0.302265\n",
       "22131  0.007166  0.510635       1       1  0.516168  0.302265\n",
       "22132  0.209698  0.510635       1       0  0.516168 -0.497735\n",
       "22133  0.247673  0.510635       1       0  0.516168 -0.497735\n",
       "22134  0.019825  0.510635       1       0  0.516168  0.302265\n",
       "22135  0.133749  0.510635       1       0  0.516168 -0.497735\n",
       "22136  0.146407  0.510635       1       0  0.516168 -0.497735\n",
       "22137  0.095774  0.510635       1       0  0.516168 -0.497735\n",
       "22138  0.019825  0.510635       1       0 -0.483832  0.302265\n",
       "22139  0.083116  0.510635       1       0  0.516168 -0.497735\n",
       "22140  0.209698  0.510635       1       0  0.516168 -0.497735\n",
       "22141  0.133749  0.510635       1       0  0.516168 -0.497735\n",
       "22142 -0.220682  0.510635       1       0  0.516168  0.302265\n",
       "22143  0.083116  0.510635       1       0  0.516168 -0.497735\n",
       "22144  0.032483  0.510635       1       0  0.516168  0.302265\n",
       "22146 -0.144732  0.510635       1       0  0.516168  0.302265\n",
       "22147  0.083116  0.510635       1       0  0.516168 -0.497735\n",
       "22148  0.146407  0.510635       1       0  0.516168 -0.497735\n",
       "22149  0.032483  0.510635       1       0  0.516168  0.302265\n",
       "22150 -0.068783  0.510635       1       1  0.516168  0.302265\n",
       "22151 -0.258656  0.510635       1       1  0.516168  0.302265\n",
       "22152 -0.208024  0.510635       1       0  0.516168  0.302265\n",
       "22153  0.070457  0.510635       1       0  0.516168  0.302265\n",
       "\n",
       "[5783 rows x 6 columns]"
      ]
     },
     "execution_count": 170,
     "metadata": {},
     "output_type": "execute_result"
    }
   ],
   "source": [
    "inData"
   ]
  },
  {
   "cell_type": "code",
   "execution_count": null,
   "metadata": {
    "collapsed": true
   },
   "outputs": [],
   "source": []
  }
 ],
 "metadata": {
  "kernelspec": {
   "display_name": "Python 3",
   "language": "python",
   "name": "python3"
  },
  "language_info": {
   "codemirror_mode": {
    "name": "ipython",
    "version": 3
   },
   "file_extension": ".py",
   "mimetype": "text/x-python",
   "name": "python",
   "nbconvert_exporter": "python",
   "pygments_lexer": "ipython3",
   "version": "3.6.0"
  }
 },
 "nbformat": 4,
 "nbformat_minor": 2
}
