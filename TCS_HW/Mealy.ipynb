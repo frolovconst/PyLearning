{
 "cells": [
  {
   "cell_type": "code",
   "execution_count": 129,
   "metadata": {
    "collapsed": false
   },
   "outputs": [],
   "source": [
    "\n",
    "class State:\n",
    "    def Pull(self, mMachine, symbol, stepNo):\n",
    "        print('')\n",
    "        \n",
    "class InitState(State):\n",
    "    def Pull(self, mMachine, symbol, stepNo):\n",
    "        mMachine.outputString = mMachine.outputString + '0'\n",
    "        if symbol == '1':\n",
    "            print('Step ' + str(stepNo) + ': output = ' + mMachine.outputString)\n",
    "            mMachine.currentState = SecondState()\n",
    "        else:\n",
    "            print('Step ' + str(stepNo) + ': output = ' + mMachine.outputString)\n",
    "            mMachine.currentState = ThirdState()\n",
    "        \n",
    "class SecondState(State):\n",
    "    def Pull(self, mMachine, symbol, stepNo):\n",
    "        mMachine.outputString = mMachine.outputString + '1'\n",
    "        if symbol == '1':\n",
    "            print('Step ' + str(stepNo) + ': output = ' + mMachine.outputString)\n",
    "        else:\n",
    "            print('Step ' + str(stepNo) + ': output = ' + mMachine.outputString)\n",
    "            mMachine.currentState = ThirdState()\n",
    "            \n",
    "            \n",
    "class ThirdState(State):\n",
    "    def Pull(self, mMachine, symbol, stepNo):\n",
    "        mMachine.outputString = mMachine.outputString + '0'\n",
    "        if symbol == '1':\n",
    "            print('Step ' + str(stepNo) + ': output = ' + mMachine.outputString)\n",
    "            mMachine.currentState = SecondState()\n",
    "        else:\n",
    "            print('Step ' + str(stepNo) + ': output = ' + mMachine.outputString)\n",
    "            \n",
    "\n",
    "\n",
    "class Mealy():\n",
    "        \n",
    "    def __init__(self):\n",
    "        self.currentState = State()\n",
    "        self.outputString = ''\n",
    "        self.currentState = InitState()\n",
    "        print(\"Machine created\")\n",
    "    \n",
    "    def Pull(self, machine, inString):\n",
    "        self.strlen = len(inString)\n",
    "        for i in range(len(inString)):\n",
    "            self.currentState.Pull(machine, inString[i], i+1)\n",
    "        \n",
    "#    def PrintState(self):\n",
    "#        print(self.state)\n",
    "    \n",
    "    \n"
   ]
  },
  {
   "cell_type": "code",
   "execution_count": 130,
   "metadata": {
    "collapsed": false
   },
   "outputs": [
    {
     "name": "stdout",
     "output_type": "stream",
     "text": [
      "Machine created\n",
      "Step 1: output = 0\n",
      "Step 2: output = 00\n",
      "Step 3: output = 000\n",
      "Step 4: output = 0001\n",
      "Step 5: output = 00010\n",
      "Step 6: output = 000100\n",
      "Step 7: output = 0001000\n",
      "Step 8: output = 00010001\n"
     ]
    }
   ],
   "source": [
    "def demo():\n",
    "    myTM = Mealy()\n",
    "    myTM.Pull(myTM, '00100010')\n",
    "\n",
    "    \n",
    "demo()"
   ]
  },
  {
   "cell_type": "code",
   "execution_count": 118,
   "metadata": {
    "collapsed": false
   },
   "outputs": [
    {
     "ename": "SyntaxError",
     "evalue": "invalid syntax (<ipython-input-118-903d43ed2288>, line 3)",
     "output_type": "error",
     "traceback": [
      "\u001b[0;36m  File \u001b[0;32m\"<ipython-input-118-903d43ed2288>\"\u001b[0;36m, line \u001b[0;32m3\u001b[0m\n\u001b[0;31m    a[]\u001b[0m\n\u001b[0m      ^\u001b[0m\n\u001b[0;31mSyntaxError\u001b[0m\u001b[0;31m:\u001b[0m invalid syntax\n"
     ]
    }
   ],
   "source": [
    "a = '1'\n",
    "a = a + '1'\n",
    "a[0]\n"
   ]
  }
 ],
 "metadata": {
  "kernelspec": {
   "display_name": "Python 3",
   "language": "python",
   "name": "python3"
  },
  "language_info": {
   "codemirror_mode": {
    "name": "ipython",
    "version": 3
   },
   "file_extension": ".py",
   "mimetype": "text/x-python",
   "name": "python",
   "nbconvert_exporter": "python",
   "pygments_lexer": "ipython3",
   "version": "3.6.0"
  }
 },
 "nbformat": 4,
 "nbformat_minor": 2
}
