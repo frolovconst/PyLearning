{
 "cells": [
  {
   "cell_type": "code",
   "execution_count": 64,
   "metadata": {
    "collapsed": false
   },
   "outputs": [],
   "source": [
    "\n",
    "class State:\n",
    "    def Pull(self, mMachine):\n",
    "        print('')\n",
    "        \n",
    "class InitState(State):\n",
    "    def Pull(self, mMachine):\n",
    "        print('Init state in 1916')\n",
    "        mMachine.currentState = SecondState()\n",
    "        \n",
    "class SecondState(State):\n",
    "    def Pull(self, mMachine):\n",
    "        print('Second state')\n",
    "        mMachine.currentState = InitState()\n",
    "\n",
    "class Mealy():\n",
    "        \n",
    "    def __init__(self):\n",
    "        self.currentState = State()\n",
    "        self.currentState = InitState()\n",
    "        print(\"Machine created\")\n",
    "    \n",
    "    def Pull(self, machine):\n",
    "        self.currentState.Pull(machine)\n",
    "        \n",
    "#    def PrintState(self):\n",
    "#        print(self.state)\n",
    "    \n",
    "    \n"
   ]
  },
  {
   "cell_type": "code",
   "execution_count": 66,
   "metadata": {
    "collapsed": false
   },
   "outputs": [
    {
     "name": "stdout",
     "output_type": "stream",
     "text": [
      "Machine created\n",
      "Init state in 1916\n",
      "Second state\n",
      "Init state in 1916\n"
     ]
    }
   ],
   "source": [
    "myTM = Mealy()\n",
    "myTM.Pull(myTM)\n",
    "myTM.Pull(myTM)\n",
    "myTM.Pull(myTM)"
   ]
  },
  {
   "cell_type": "code",
   "execution_count": null,
   "metadata": {
    "collapsed": true
   },
   "outputs": [],
   "source": []
  }
 ],
 "metadata": {
  "kernelspec": {
   "display_name": "Python 3",
   "language": "python",
   "name": "python3"
  },
  "language_info": {
   "codemirror_mode": {
    "name": "ipython",
    "version": 3
   },
   "file_extension": ".py",
   "mimetype": "text/x-python",
   "name": "python",
   "nbconvert_exporter": "python",
   "pygments_lexer": "ipython3",
   "version": "3.6.0"
  }
 },
 "nbformat": 4,
 "nbformat_minor": 2
}
